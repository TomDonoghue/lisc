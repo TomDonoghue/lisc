{
 "cells": [
  {
   "cell_type": "markdown",
   "metadata": {},
   "source": [
    "# LISC\n",
    "\n",
    "LIterature SCanner (LISC) is a python module for scraping literature data. It is basically a wrapper around the Pubmed [E-Utilities](https://www.ncbi.nlm.nih.gov/books/NBK25501/).\n",
    "\n",
    "LISC provides for two different 'types' of scraping, 'Counts' and 'Words'. \n",
    "\n",
    "### Counts\n",
    "\n",
    "'Counts' scrapes for co-occurence of given set(s) of terms. \n",
    "\n",
    "### Words\n",
    "\n",
    "'Words' scrapes abstract text data, and paper meta-data, for all papers found for a given set of terms.\n",
    "\n",
    "### Functions vs. Objects\n",
    "\n",
    "Each of these types of scrapes can be called in one of two ways, either by using scrape functions provided by LISC (function approach), or by using objects provided by LISC (OOP approach). \n",
    "\n",
    "Note that, under the hood, these methods are the same, the OOP oriented approach simply provides wrappers around the scraping functions. "
   ]
  },
  {
   "cell_type": "code",
   "execution_count": 1,
   "metadata": {
    "collapsed": true
   },
   "outputs": [],
   "source": [
    "# Add lisc to path - assumes lisc is available one step up in the directory\n",
    "#  This should work if cloned from Github\n",
    "import os\n",
    "import sys\n",
    "sys.path.append(os.path.split(os.getcwd())[0])"
   ]
  },
  {
   "cell_type": "code",
   "execution_count": 2,
   "metadata": {
    "collapsed": true
   },
   "outputs": [],
   "source": [
    "# Set up some test data\n",
    "#  Note that each entry is itself a list\n",
    "terms_a = [['brain'], ['cognition']]\n",
    "terms_b = [['body'], ['biology'], ['disease']]"
   ]
  },
  {
   "cell_type": "markdown",
   "metadata": {},
   "source": [
    "## Counts\n",
    "\n",
    "'Counts' scraping gets data about the co-occurence of terms of interest.\n",
    "\n",
    "Specifically, it search titles and abstracts, and checks how often two terms of interest appear together in the literature. "
   ]
  },
  {
   "cell_type": "code",
   "execution_count": 3,
   "metadata": {
    "collapsed": true
   },
   "outputs": [],
   "source": [
    "# Import LISC - Count\n",
    "from lisc.count import Count\n",
    "from lisc.scrape import scrape_counts"
   ]
  },
  {
   "cell_type": "markdown",
   "metadata": {},
   "source": [
    "### scrape_counts function"
   ]
  },
  {
   "cell_type": "code",
   "execution_count": 4,
   "metadata": {},
   "outputs": [
    {
     "name": "stdout",
     "output_type": "stream",
     "text": [
      "Running counts for:  brain\n",
      "Running counts for:  cognition\n"
     ]
    }
   ],
   "source": [
    "# Run a scrape of 'counts' (co-occurence data) - across a single list of terms\n",
    "dat_numbers, dat_percent, term_counts, _, meta_dat = scrape_counts(terms_a, db='pubmed', verbose=True)"
   ]
  },
  {
   "cell_type": "code",
   "execution_count": 5,
   "metadata": {},
   "outputs": [
    {
     "name": "stdout",
     "output_type": "stream",
     "text": [
      "[[    0 15583]\n",
      " [15583     0]]\n"
     ]
    }
   ],
   "source": [
    "# Check out how many papers where found for each combination\n",
    "print(dat_numbers)"
   ]
  },
  {
   "cell_type": "code",
   "execution_count": 6,
   "metadata": {},
   "outputs": [
    {
     "name": "stdout",
     "output_type": "stream",
     "text": [
      "[[ 0.          0.01822714]\n",
      " [ 0.27393383  0.        ]]\n"
     ]
    }
   ],
   "source": [
    "# Check out the percent of paper overlap\n",
    "print(dat_percent)"
   ]
  },
  {
   "cell_type": "code",
   "execution_count": 7,
   "metadata": {},
   "outputs": [
    {
     "name": "stdout",
     "output_type": "stream",
     "text": [
      "brain        : 854934\n",
      "cognition    : 56886\n"
     ]
    }
   ],
   "source": [
    "# Print out many papers found for each term\n",
    "for term, count in zip(terms_a, term_counts):\n",
    "    print('{:12} : {}'.format(term[0], count))"
   ]
  },
  {
   "cell_type": "markdown",
   "metadata": {},
   "source": [
    "When given a single set of terms, the 'Counts' scrapes each term  against each other term. \n",
    "\n",
    "You can also specify different sets of terms to scrape, as below, whereby each term in list A is scraped for co-occurence for each term in list B (but not to other terms in list A). "
   ]
  },
  {
   "cell_type": "code",
   "execution_count": 8,
   "metadata": {},
   "outputs": [
    {
     "name": "stdout",
     "output_type": "stream",
     "text": [
      "Running counts for:  brain\n",
      "Running counts for:  cognition\n"
     ]
    }
   ],
   "source": [
    "# Run a scrape of 'counts' (co-occurence data) across two different lists of terms\n",
    "dat_numbers, dat_percent, term_counts_a, term_counts_b, meta_dat = scrape_counts(\n",
    "    terms_lst_a=terms_a, terms_lst_b=terms_b, db='pubmed', verbose=True)"
   ]
  },
  {
   "cell_type": "markdown",
   "metadata": {},
   "source": [
    "### Count Object\n",
    "\n",
    "There is also an OOP interface available in LISC, to organize the terms and data, and run scrapes. \n",
    "\n",
    "Note that the underlying code is the same - the count object ultimately calls the same scrape function as above. "
   ]
  },
  {
   "cell_type": "code",
   "execution_count": 9,
   "metadata": {},
   "outputs": [],
   "source": [
    "# Initialize counts object\n",
    "counts = Count()\n",
    "\n",
    "# Set terms to run\n",
    "counts.set_terms(terms_a)"
   ]
  },
  {
   "cell_type": "code",
   "execution_count": 10,
   "metadata": {},
   "outputs": [
    {
     "name": "stdout",
     "output_type": "stream",
     "text": [
      "Running counts for:  brain\n",
      "Running counts for:  cognition\n"
     ]
    }
   ],
   "source": [
    "# Run scrape\n",
    "counts.run_scrape(verbose=True)"
   ]
  },
  {
   "cell_type": "markdown",
   "metadata": {},
   "source": [
    "The Counts object also comes with some helper methods to check out the data."
   ]
  },
  {
   "cell_type": "code",
   "execution_count": 11,
   "metadata": {},
   "outputs": [
    {
     "name": "stdout",
     "output_type": "stream",
     "text": [
      "For the  brain        the most common association is \t cognition          with \t %01.82\n",
      "For the  cognition    the most common association is \t brain              with \t %27.39\n"
     ]
    }
   ],
   "source": [
    "# Check the highest associations for each term\n",
    "counts.check_cooc()"
   ]
  },
  {
   "cell_type": "code",
   "execution_count": 12,
   "metadata": {},
   "outputs": [
    {
     "name": "stdout",
     "output_type": "stream",
     "text": [
      "brain        -   854934\n",
      "cognition    -    56886\n"
     ]
    }
   ],
   "source": [
    "# Check how many papers were found for each search term\n",
    "counts.check_counts()"
   ]
  },
  {
   "cell_type": "code",
   "execution_count": 13,
   "metadata": {},
   "outputs": [
    {
     "name": "stdout",
     "output_type": "stream",
     "text": [
      "The most studied term is  brain         with   854934 papers\n"
     ]
    }
   ],
   "source": [
    "# Check the top term\n",
    "counts.check_top()"
   ]
  },
  {
   "cell_type": "markdown",
   "metadata": {},
   "source": [
    "#### Co-occurence data - different word lists"
   ]
  },
  {
   "cell_type": "code",
   "execution_count": 14,
   "metadata": {},
   "outputs": [],
   "source": [
    "# Initialize count object\n",
    "counts_two = Count()\n",
    "\n",
    "# Set terms lists\n",
    "#  Different terms lists are indexed by the 'A' and 'B' labels\n",
    "counts_two.set_terms(terms_a, 'A')\n",
    "counts_two.set_terms(terms_b, 'B')"
   ]
  },
  {
   "cell_type": "code",
   "execution_count": 15,
   "metadata": {
    "collapsed": true
   },
   "outputs": [],
   "source": [
    "# Scrape co-occurence data\n",
    "counts_two.run_scrape()"
   ]
  },
  {
   "cell_type": "code",
   "execution_count": 16,
   "metadata": {},
   "outputs": [
    {
     "name": "stdout",
     "output_type": "stream",
     "text": [
      "For the  brain        the most common association is \t disease            with \t %14.81\n",
      "For the  cognition    the most common association is \t disease            with \t %20.65\n",
      "\n",
      "\n",
      "For the  body         the most common association is \t cognition          with \t %05.26\n",
      "For the  biology      the most common association is \t cognition          with \t %00.82\n",
      "For the  disease      the most common association is \t cognition          with \t %20.65\n"
     ]
    }
   ],
   "source": [
    "# From there you can use all the same methods to explore the data\n",
    "#  You can also specify which list to check\n",
    "counts_two.check_cooc('A')\n",
    "print('\\n')\n",
    "counts_two.check_cooc('B')"
   ]
  },
  {
   "cell_type": "markdown",
   "metadata": {},
   "source": [
    "###  Synonyms & Exclusion Words\n",
    "\n",
    "There is also support for adding synonyms and exclusion words. \n",
    "\n",
    "Synonyms are combined with the 'OR' operator, meaning results will be returned if they include any of the given terms. \n",
    "\n",
    "Exclusion words are combined with the 'NOT' operator, meaning entries will be excluded if they include these terms. \n",
    "\n",
    "For example, a using search terms ['gene', 'genetic'] with exclusion words ['protein'] creates the search:\n",
    "- (\"gene\"OR\"genetic\"NOT\"protein\")"
   ]
  },
  {
   "cell_type": "code",
   "execution_count": 17,
   "metadata": {
    "collapsed": true
   },
   "outputs": [],
   "source": [
    "# Initialize Count object\n",
    "counts = Count()"
   ]
  },
  {
   "cell_type": "code",
   "execution_count": 18,
   "metadata": {
    "collapsed": true
   },
   "outputs": [],
   "source": [
    "# Set up terms with synonyms\n",
    "#  Being able to include synonyms is the reason each term entry is itself a list\n",
    "terms_lst = [['gene', 'genetic'], ['cortex', 'cortical']]\n",
    "\n",
    "# Set up exclusions\n",
    "#  You can also include synonyms for exclusions - which is why each entry is also a list\n",
    "excl_lst = [['protein'], ['subcortical']]\n",
    "\n",
    "# Set the terms & exclusions\n",
    "counts.set_terms(terms_lst, 'A')\n",
    "counts.set_exclusions(excl_lst, 'A')"
   ]
  },
  {
   "cell_type": "code",
   "execution_count": 19,
   "metadata": {},
   "outputs": [
    {
     "name": "stdout",
     "output_type": "stream",
     "text": [
      "List of terms used: \n",
      "\n",
      "gene, genetic\n",
      "cortex, cortical\n"
     ]
    }
   ],
   "source": [
    "# You can check which terms are loaded\n",
    "counts.terms['A'].check_terms()"
   ]
  },
  {
   "cell_type": "code",
   "execution_count": 20,
   "metadata": {},
   "outputs": [
    {
     "name": "stdout",
     "output_type": "stream",
     "text": [
      "List of exclusion words used: \n",
      "\n",
      "gene\t : protein\n",
      "cortex\t : subcortical\n"
     ]
    }
   ],
   "source": [
    "# Check exclusion words\n",
    "counts.terms['A'].check_exclusions()"
   ]
  },
  {
   "cell_type": "code",
   "execution_count": 21,
   "metadata": {},
   "outputs": [
    {
     "data": {
      "text/plain": [
       "['gene', 'cortex']"
      ]
     },
     "execution_count": 21,
     "metadata": {},
     "output_type": "execute_result"
    }
   ],
   "source": [
    "# LISC objects will use the first item of each terms lists as a label for that term\n",
    "counts.terms['A'].labels"
   ]
  },
  {
   "cell_type": "markdown",
   "metadata": {},
   "source": [
    "Note that searching across different terms lists, and using synonyms and exclusions can all also be done directly using the scrape_counts function. "
   ]
  },
  {
   "cell_type": "markdown",
   "metadata": {},
   "source": [
    "## Words\n",
    "\n",
    "Another way to scrape the data is to get some paper data from "
   ]
  },
  {
   "cell_type": "code",
   "execution_count": 22,
   "metadata": {
    "collapsed": true
   },
   "outputs": [],
   "source": [
    "# Import LISC - Words\n",
    "from lisc.words import Words\n",
    "from lisc.scrape import scrape_words"
   ]
  },
  {
   "cell_type": "markdown",
   "metadata": {},
   "source": [
    "### scrape_words function"
   ]
  },
  {
   "cell_type": "code",
   "execution_count": 23,
   "metadata": {},
   "outputs": [
    {
     "name": "stdout",
     "output_type": "stream",
     "text": [
      "Scraping words for:  brain\n",
      "Scraping words for:  cognition\n"
     ]
    }
   ],
   "source": [
    "# Scrape words data\n",
    "#  Set the scrape to return data for at most 5 papers per term\n",
    "dat, meta_dat = scrape_words(terms_a, retmax='5', use_hist=False, save_n_clear=False, verbose=True)"
   ]
  },
  {
   "cell_type": "code",
   "execution_count": 24,
   "metadata": {},
   "outputs": [
    {
     "data": {
      "text/plain": [
       "[<lisc.data.Data at 0x118f2aef0>, <lisc.data.Data at 0x118f97400>]"
      ]
     },
     "execution_count": 24,
     "metadata": {},
     "output_type": "execute_result"
    }
   ],
   "source": [
    "# The function returns a list of LISC Data objects\n",
    "dat"
   ]
  },
  {
   "cell_type": "code",
   "execution_count": 25,
   "metadata": {},
   "outputs": [
    {
     "name": "stdout",
     "output_type": "stream",
     "text": [
      "5 \n",
      "\n",
      "Dehydroepiandrosterone impacts working memory by shaping cortico-hippocampal structural covariance during development.\n",
      "Neurobiology of Criterion A: self and interpersonal personality functioning.\n",
      "The Analgesic Acetaminophen and the Antipsychotic Clozapine can each Redox-Cycle with Melanin.\n",
      "Dab1 contributes differently to the morphogenesis of the hippocampal subdivisions.\n",
      "Single-Fraction Radiosurgery Using Conservative Doses for Brain Metastases: Durable Responses in Select Primaries With Limited Toxicity. \n",
      "\n"
     ]
    }
   ],
   "source": [
    "# Each data object holds the data for the scraped papers\n",
    "d1 = dat[0]\n",
    "\n",
    "# Print out some of the data\n",
    "print(d1.n_articles, '\\n')\n",
    "print('\\n'.join(d1.titles), '\\n')"
   ]
  },
  {
   "cell_type": "markdown",
   "metadata": {},
   "source": [
    "### Words Object"
   ]
  },
  {
   "cell_type": "code",
   "execution_count": 26,
   "metadata": {
    "collapsed": true
   },
   "outputs": [],
   "source": [
    "# Initialize Words object\n",
    "words = Words()\n",
    "\n",
    "# Set terms to search\n",
    "words.set_terms(terms_a)"
   ]
  },
  {
   "cell_type": "code",
   "execution_count": 27,
   "metadata": {
    "collapsed": true
   },
   "outputs": [],
   "source": [
    "# Run words scrape\n",
    "words.run_scrape(retmax='5', save_n_clear=False)"
   ]
  },
  {
   "cell_type": "code",
   "execution_count": 28,
   "metadata": {},
   "outputs": [
    {
     "data": {
      "text/plain": [
       "[<lisc.data.Data at 0x118f90f60>, <lisc.data.Data at 0x1194229e8>]"
      ]
     },
     "execution_count": 28,
     "metadata": {},
     "output_type": "execute_result"
    }
   ],
   "source": [
    "# Words also saves the same list of Data objects\n",
    "words.results"
   ]
  },
  {
   "cell_type": "markdown",
   "metadata": {},
   "source": [
    "The use of synonyms and exclusion words, demonstrated above for counts, applies in the same way to the scraping words."
   ]
  },
  {
   "cell_type": "markdown",
   "metadata": {},
   "source": [
    "### Exploring Words Data\n",
    "\n",
    "The words object also has a couple convenience methods for exploring the data. "
   ]
  },
  {
   "cell_type": "code",
   "execution_count": 29,
   "metadata": {},
   "outputs": [
    {
     "name": "stdout",
     "output_type": "stream",
     "text": [
      "<lisc.data.Data object at 0x118f90f60>\n"
     ]
    }
   ],
   "source": [
    "# Indexing with labels\n",
    "print(words['brain'])"
   ]
  },
  {
   "cell_type": "code",
   "execution_count": 30,
   "metadata": {},
   "outputs": [
    {
     "name": "stdout",
     "output_type": "stream",
     "text": [
      "Long-term effects of tDCS on fatigue, mood and cognition in multiple sclerosis.\n",
      "Dehydroepiandrosterone impacts working memory by shaping cortico-hippocampal structural covariance during development.\n",
      "Late, but not early, arriving younger siblings foster firstborns' understanding of second-order false belief.\n",
      "Decline of prefrontal cortical-mediated executive functions but attenuated delay discounting in aged Fischer 344 × brown Norway hybrid rats.\n",
      "Does phytoestrogen supplementation improve cognition in humans? A systematic review.\n"
     ]
    }
   ],
   "source": [
    "# Iterating through papers found from a particular search term\n",
    "#  The iteration returns a dictionary with all the paper data\n",
    "for art in words['cognition']:\n",
    "    print(art['title'])"
   ]
  },
  {
   "cell_type": "markdown",
   "metadata": {},
   "source": [
    "### Metadata\n",
    "\n",
    "Regardless of what you are scraping, or how you run it through LISC, there is some meta-data saved.\n",
    "\n",
    "This data is collected in a dictionary, that is returned by the scrape functions (and saved to the objects, if applicable)."
   ]
  },
  {
   "cell_type": "code",
   "execution_count": 31,
   "metadata": {},
   "outputs": [
    {
     "data": {
      "text/plain": [
       "{'count': '27630427',\n",
       " 'dbbuild': 'Build170925-2207m.9',\n",
       " 'dbname': 'pubmed',\n",
       " 'description': 'PubMed bibliographic record',\n",
       " 'lastupdate': '2017/09/27 16:06',\n",
       " 'menuname': 'PubMed'}"
      ]
     },
     "execution_count": 31,
     "metadata": {},
     "output_type": "execute_result"
    }
   ],
   "source": [
    "# The meta data includes some information on the database that was scraped\n",
    "meta_dat['db_info']"
   ]
  },
  {
   "cell_type": "code",
   "execution_count": 32,
   "metadata": {},
   "outputs": [
    {
     "name": "stdout",
     "output_type": "stream",
     "text": [
      "Start time:     15:42 Wednesday 27 September\n",
      "End time:       15:42 Wednesday 27 September\n",
      "# of requests:  5\n"
     ]
    }
   ],
   "source": [
    "# It also includes the Requester object, used to launch URL requests, which also has some details about the scrape\n",
    "print('Start time:    ', meta_dat['req'].st_time)\n",
    "print('End time:      ', meta_dat['req'].en_time)\n",
    "print('# of requests: ', meta_dat['req'].n_requests)"
   ]
  }
 ],
 "metadata": {
  "kernelspec": {
   "display_name": "Python 3",
   "language": "python",
   "name": "python3"
  },
  "language_info": {
   "codemirror_mode": {
    "name": "ipython",
    "version": 3
   },
   "file_extension": ".py",
   "mimetype": "text/x-python",
   "name": "python",
   "nbconvert_exporter": "python",
   "pygments_lexer": "ipython3",
   "version": "3.6.1"
  }
 },
 "nbformat": 4,
 "nbformat_minor": 2
}
