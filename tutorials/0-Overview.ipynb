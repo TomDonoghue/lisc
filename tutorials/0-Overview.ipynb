{
 "cells": [
  {
   "cell_type": "markdown",
   "metadata": {},
   "source": [
    "# Overview"
   ]
  },
  {
   "cell_type": "markdown",
   "metadata": {},
   "source": [
    "# LISC\n",
    "\n",
    "LIterature SCanner (LISC) is a python module for scraping literature data. It is basically a wrapper around the Pubmed [E-Utilities](https://www.ncbi.nlm.nih.gov/books/NBK25501/).\n",
    "\n",
    "LISC provides for two different 'types' of scraping, 'Counts' and 'Words'. \n",
    "\n",
    "### Counts\n",
    "\n",
    "'Counts' scrapes for co-occurence of given set(s) of terms. \n",
    "\n",
    "### Words\n",
    "\n",
    "'Words' scrapes abstract text data, and paper meta-data, for all papers found for a given set of terms.\n",
    "\n",
    "### Functions vs. Objects\n",
    "\n",
    "Each of these types of scrapes can be called in one of two ways, either by using scrape functions provided by LISC (function approach), or by using objects provided by LISC (OOP approach). \n",
    "\n",
    "Note that, under the hood, these methods are the same, the OOP oriented approach simply provides wrappers around the scraping functions. "
   ]
  },
  {
   "cell_type": "code",
   "execution_count": null,
   "metadata": {
    "collapsed": true
   },
   "outputs": [],
   "source": []
  }
 ],
 "metadata": {
  "kernelspec": {
   "display_name": "Python [conda root]",
   "language": "python",
   "name": "conda-root-py"
  },
  "language_info": {
   "codemirror_mode": {
    "name": "ipython",
    "version": 3
   },
   "file_extension": ".py",
   "mimetype": "text/x-python",
   "name": "python",
   "nbconvert_exporter": "python",
   "pygments_lexer": "ipython3",
   "version": "3.6.3"
  }
 },
 "nbformat": 4,
 "nbformat_minor": 2
}
