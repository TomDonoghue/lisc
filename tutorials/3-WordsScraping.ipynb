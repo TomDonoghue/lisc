{
 "cells": [
  {
   "cell_type": "markdown",
   "metadata": {},
   "source": [
    "## Words\n",
    "\n",
    "Another way to scrape the data is to get some paper data from "
   ]
  },
  {
   "cell_type": "code",
   "execution_count": 1,
   "metadata": {
    "collapsed": true
   },
   "outputs": [],
   "source": [
    "# Import LISC - Words\n",
    "from lisc.words import Words\n",
    "from lisc.scrape import scrape_words"
   ]
  },
  {
   "cell_type": "code",
   "execution_count": 8,
   "metadata": {
    "collapsed": true
   },
   "outputs": [],
   "source": [
    "# Set up some test data\n",
    "#  Note that each entry should be a list\n",
    "terms_a = [['brain'], ['cognition']]\n",
    "terms_b = [['body'], ['biology'], ['disease']]"
   ]
  },
  {
   "cell_type": "markdown",
   "metadata": {},
   "source": [
    "## Function Approach: scrape_words"
   ]
  },
  {
   "cell_type": "code",
   "execution_count": 51,
   "metadata": {},
   "outputs": [
    {
     "name": "stdout",
     "output_type": "stream",
     "text": [
      "Scraping words for:  body\n",
      "Scraping words for:  biology\n",
      "Scraping words for:  disease\n"
     ]
    }
   ],
   "source": [
    "# Scrape words data - set the scrape to return data for at most 5 papers per term\n",
    "dat, meta_dat = scrape_words(terms_a, retmax='5', use_hist=False, save_n_clear=False, verbose=True)"
   ]
  },
  {
   "cell_type": "code",
   "execution_count": 52,
   "metadata": {},
   "outputs": [
    {
     "data": {
      "text/plain": [
       "[<lisc.data.Data at 0x1a1444b470>,\n",
       " <lisc.data.Data at 0x1a14514b00>,\n",
       " <lisc.data.Data at 0x1a14177198>]"
      ]
     },
     "execution_count": 52,
     "metadata": {},
     "output_type": "execute_result"
    }
   ],
   "source": [
    "# The function returns a list of LISC Data objects\n",
    "dat"
   ]
  },
  {
   "cell_type": "code",
   "execution_count": 61,
   "metadata": {},
   "outputs": [],
   "source": [
    "dd = dat[0]"
   ]
  },
  {
   "cell_type": "code",
   "execution_count": 62,
   "metadata": {},
   "outputs": [
    {
     "data": {
      "text/plain": [
       "7"
      ]
     },
     "execution_count": 62,
     "metadata": {},
     "output_type": "execute_result"
    }
   ],
   "source": [
    "meta_dat['req'].n_requests"
   ]
  },
  {
   "cell_type": "code",
   "execution_count": 63,
   "metadata": {},
   "outputs": [
    {
     "data": {
      "text/plain": [
       "'body'"
      ]
     },
     "execution_count": 63,
     "metadata": {},
     "output_type": "execute_result"
    }
   ],
   "source": [
    "dd.label"
   ]
  },
  {
   "cell_type": "code",
   "execution_count": 59,
   "metadata": {},
   "outputs": [
    {
     "name": "stdout",
     "output_type": "stream",
     "text": [
      "2 \n",
      "\n",
      "Comparative study between: Carboxytherapy, platelet-rich plasma, and tripolar radiofrequency, their efficacy and tolerability in striae distensae.\n",
      "Pharmacokinetics, Pharmacodynamics, and Safety of Subcutaneous Bapineuzumab: A Single-Ascending-Dose Study in Patients With Mild to Moderate Alzheimer Disease. \n",
      "\n"
     ]
    }
   ],
   "source": [
    "# Each data object holds the data for the scraped papers\n",
    "d1 = dat[0]\n",
    "\n",
    "# Print out some of the data\n",
    "print(d1.n_articles, '\\n')\n",
    "print('\\n'.join(d1.titles), '\\n')"
   ]
  },
  {
   "cell_type": "markdown",
   "metadata": {},
   "source": [
    "## Object Approach: Words"
   ]
  },
  {
   "cell_type": "code",
   "execution_count": 13,
   "metadata": {
    "collapsed": true
   },
   "outputs": [],
   "source": [
    "# Initialize Words object\n",
    "words = Words()\n",
    "\n",
    "# Set terms to search\n",
    "words.set_terms(terms_a)"
   ]
  },
  {
   "cell_type": "code",
   "execution_count": 14,
   "metadata": {
    "collapsed": true
   },
   "outputs": [],
   "source": [
    "# Run words scrape\n",
    "words.run_scrape(retmax='5', save_n_clear=False)"
   ]
  },
  {
   "cell_type": "code",
   "execution_count": 15,
   "metadata": {},
   "outputs": [
    {
     "data": {
      "text/plain": [
       "[<lisc.data.Data at 0x1a13f2c048>, <lisc.data.Data at 0x1a1438b2b0>]"
      ]
     },
     "execution_count": 15,
     "metadata": {},
     "output_type": "execute_result"
    }
   ],
   "source": [
    "# Words also saves the same list of Data objects\n",
    "words.results"
   ]
  },
  {
   "cell_type": "markdown",
   "metadata": {},
   "source": [
    "The use of synonyms and exclusion words, demonstrated above for counts, applies in the same way to the scraping words."
   ]
  },
  {
   "cell_type": "markdown",
   "metadata": {},
   "source": [
    "### Exploring Words Data\n",
    "\n",
    "The words object also has a couple convenience methods for exploring the data. "
   ]
  },
  {
   "cell_type": "code",
   "execution_count": 16,
   "metadata": {},
   "outputs": [
    {
     "name": "stdout",
     "output_type": "stream",
     "text": [
      "<lisc.data.Data object at 0x1a13f2c048>\n"
     ]
    }
   ],
   "source": [
    "# Indexing with labels\n",
    "print(words['brain'])"
   ]
  },
  {
   "cell_type": "code",
   "execution_count": 17,
   "metadata": {},
   "outputs": [
    {
     "name": "stdout",
     "output_type": "stream",
     "text": [
      "Sleep-disordered breathing, brain volume, and cognition in older individuals with heart failure.\n",
      "Licorice root components mimic estrogens in an object location task but not an object recognition task.\n",
      "Animal Cognition: Chimps Use Human Knowledge When Reasoning Statistically.\n",
      "Application of motor learning in neurorehabilitation: a framework for health-care professionals.\n",
      "The association between gait speed and cognitive status in community-dwelling older people: A systematic review and meta-analysis.\n"
     ]
    }
   ],
   "source": [
    "# Iterating through papers found from a particular search term\n",
    "#  The iteration returns a dictionary with all the paper data\n",
    "for art in words['cognition']:\n",
    "    print(art['title'])"
   ]
  },
  {
   "cell_type": "markdown",
   "metadata": {},
   "source": [
    "### Metadata\n",
    "\n",
    "Regardless of what you are scraping, or how you run it through LISC, there is some meta-data saved.\n",
    "\n",
    "This data is collected in a dictionary, that is returned by the scrape functions (and saved to the objects, if applicable)."
   ]
  },
  {
   "cell_type": "code",
   "execution_count": 23,
   "metadata": {},
   "outputs": [
    {
     "data": {
      "text/plain": [
       "{'count': '28559796',\n",
       " 'dbbuild': 'Build180618-2212m.3',\n",
       " 'dbname': 'pubmed',\n",
       " 'description': 'PubMed bibliographic record',\n",
       " 'lastupdate': '2018/06/19 16:48',\n",
       " 'menuname': 'PubMed'}"
      ]
     },
     "execution_count": 23,
     "metadata": {},
     "output_type": "execute_result"
    }
   ],
   "source": [
    "# The meta data includes some information on the database that was scraped\n",
    "meta_dat['db_info']"
   ]
  },
  {
   "cell_type": "code",
   "execution_count": 25,
   "metadata": {},
   "outputs": [
    {
     "data": {
      "text/plain": [
       "{'count': '28559796',\n",
       " 'dbbuild': 'Build180618-2212m.3',\n",
       " 'dbname': 'pubmed',\n",
       " 'description': 'PubMed bibliographic record',\n",
       " 'lastupdate': '2018/06/19 16:48',\n",
       " 'menuname': 'PubMed'}"
      ]
     },
     "execution_count": 25,
     "metadata": {},
     "output_type": "execute_result"
    }
   ],
   "source": [
    "# This data is also saved to object\n",
    "words.meta_dat['db_info']"
   ]
  },
  {
   "cell_type": "code",
   "execution_count": 19,
   "metadata": {},
   "outputs": [
    {
     "name": "stdout",
     "output_type": "stream",
     "text": [
      "Start time:     16:36 Wednesday 20 June\n",
      "End time:       16:36 Wednesday 20 June\n",
      "# of requests:  5\n"
     ]
    }
   ],
   "source": [
    "# It also includes the Requester object, which is used to launch URL requests\n",
    "#   This object also stores some details about the scrape\n",
    "#   It can be used, for example, to track how long scrapes take, and how many requests they include\n",
    "print('Start time:    ', meta_dat['req'].st_time)\n",
    "print('End time:      ', meta_dat['req'].en_time)\n",
    "print('# of requests: ', meta_dat['req'].n_requests)"
   ]
  }
 ],
 "metadata": {
  "kernelspec": {
   "display_name": "Python [conda root]",
   "language": "python",
   "name": "conda-root-py"
  },
  "language_info": {
   "codemirror_mode": {
    "name": "ipython",
    "version": 3
   },
   "file_extension": ".py",
   "mimetype": "text/x-python",
   "name": "python",
   "nbconvert_exporter": "python",
   "pygments_lexer": "ipython3",
   "version": "3.6.3"
  }
 },
 "nbformat": 4,
 "nbformat_minor": 2
}
