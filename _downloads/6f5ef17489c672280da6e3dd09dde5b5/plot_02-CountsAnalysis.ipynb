{
  "cells": [
    {
      "cell_type": "code",
      "execution_count": null,
      "metadata": {
        "collapsed": false
      },
      "outputs": [],
      "source": [
        "%matplotlib inline"
      ]
    },
    {
      "cell_type": "markdown",
      "metadata": {},
      "source": [
        "\nTutorial 02: Counts Analysis\n============================\n\nAnalyzing scraped co-occurence data.\n\n"
      ]
    },
    {
      "cell_type": "code",
      "execution_count": null,
      "metadata": {
        "collapsed": false
      },
      "outputs": [],
      "source": [
        "from lisc import SCDB, load_object\n\nfrom lisc.plts.group import *"
      ]
    },
    {
      "cell_type": "markdown",
      "metadata": {},
      "source": [
        "Counts Analyses\n---------------\n\nThis tutorial explores the built in utilities for exploring & anayzing counts data.\n\n\n"
      ]
    },
    {
      "cell_type": "code",
      "execution_count": null,
      "metadata": {
        "collapsed": false
      },
      "outputs": [],
      "source": [
        "# Reload the counts object from the last tutorial\ncounts = load_object('tutorial_counts', SCDB('lisc_db'))"
      ]
    },
    {
      "cell_type": "markdown",
      "metadata": {},
      "source": [
        "The `Counts` object has some helper methods to explore the collected data.\n\nFirst lets check the number of counts per term list.\n\n\n"
      ]
    },
    {
      "cell_type": "code",
      "execution_count": null,
      "metadata": {
        "collapsed": false
      },
      "outputs": [],
      "source": [
        "# Look at the collect counts data for the first set of terms\ncounts.check_data(data_type='counts', dim='A', )"
      ]
    },
    {
      "cell_type": "code",
      "execution_count": null,
      "metadata": {
        "collapsed": false
      },
      "outputs": [],
      "source": [
        "# Look at the collect counts data for the second set of terms\ncounts.check_data(data_type='counts', dim='B', )"
      ]
    },
    {
      "cell_type": "markdown",
      "metadata": {},
      "source": [
        "Scores\n------\n\nThe Counts co-occurence data collection gives us a raw data matrix of the number of\npapers in with terms co-occur, as well as counts of the number of total papers using\neach term.\n\n\nMORE INFORMATION ON SCORES\n\n\n"
      ]
    },
    {
      "cell_type": "code",
      "execution_count": null,
      "metadata": {
        "collapsed": false
      },
      "outputs": [],
      "source": [
        "# Compute the association index\ncounts.compute_score('association')"
      ]
    },
    {
      "cell_type": "code",
      "execution_count": null,
      "metadata": {
        "collapsed": false
      },
      "outputs": [],
      "source": [
        "# Check out the computed score\nprint(counts.score)"
      ]
    },
    {
      "cell_type": "markdown",
      "metadata": {},
      "source": [
        "Clustering and Plotting Counts Data\n-----------------------------------\n\nMORE INFORMATION HERE\n\nTODO: FIX UP PLOTS\n\n\n"
      ]
    },
    {
      "cell_type": "code",
      "execution_count": null,
      "metadata": {
        "collapsed": false
      },
      "outputs": [],
      "source": [
        "# Plot a matrix of the association index data\nplot_matrix(counts.score, counts.terms['B'].labels, counts.terms['A'].labels)"
      ]
    },
    {
      "cell_type": "code",
      "execution_count": null,
      "metadata": {
        "collapsed": false
      },
      "outputs": [],
      "source": [
        "# Plot a clustermap of the association index data\nplot_clustermap(counts.score, counts.terms['B'].labels, counts.terms['A'].labels)"
      ]
    },
    {
      "cell_type": "code",
      "execution_count": null,
      "metadata": {
        "collapsed": false
      },
      "outputs": [],
      "source": [
        "# Plot a dendrogram, to cluster the terms\nplot_dendrogram(counts.score, counts.terms['B'].labels)"
      ]
    }
  ],
  "metadata": {
    "kernelspec": {
      "display_name": "Python 3",
      "language": "python",
      "name": "python3"
    },
    "language_info": {
      "codemirror_mode": {
        "name": "ipython",
        "version": 3
      },
      "file_extension": ".py",
      "mimetype": "text/x-python",
      "name": "python",
      "nbconvert_exporter": "python",
      "pygments_lexer": "ipython3",
      "version": "3.7.3"
    }
  },
  "nbformat": 4,
  "nbformat_minor": 0
}