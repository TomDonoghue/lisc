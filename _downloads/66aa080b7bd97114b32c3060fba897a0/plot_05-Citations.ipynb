{
  "cells": [
    {
      "cell_type": "code",
      "execution_count": null,
      "metadata": {
        "collapsed": false
      },
      "outputs": [],
      "source": [
        "%matplotlib inline"
      ]
    },
    {
      "cell_type": "markdown",
      "metadata": {},
      "source": [
        "\nTutorial 05: Collecting Citation Data\n=====================================\n\nScraping citation data from OpenCitations.\n\n"
      ]
    },
    {
      "cell_type": "markdown",
      "metadata": {},
      "source": [
        "References & Citations\n----------------------\n\nAnother feature of interest about the scientific literature are references and citations.\n\nThat is, which papers are cited by a particular paper, and how many citations a paper\nreceives can be a useful measure for investigate the the propogation of ideas.\n\nUnfortunately, citation data has historically been hard to access and investigate, due to\nthe lack of available databases and APIs that provide access to such information.\n\nOpenCitations Project\n~~~~~~~~~~~~~~~~~~~~~\n\nRecently, Citation data has become more available with the `OpenCitations <https://opencitations.net>`_\nproject, which is an initiative to support and provid open bibliographic and citation data.\n\nThe OpenCitations project maintains a database of citation data, and provides an API\nfor programmatic access to this database.\n\n\n"
      ]
    },
    {
      "cell_type": "code",
      "execution_count": null,
      "metadata": {
        "collapsed": false
      },
      "outputs": [],
      "source": [
        "from lisc.collect import collect_citations"
      ]
    },
    {
      "cell_type": "markdown",
      "metadata": {},
      "source": [
        "OpenCitations API\n-----------------\n\nThe OpenCitations `API <https://opencitations.net/index/coci/api/v1>`_ offers multiple\nutilities, to collect citation and reference data.\n\nPapers of interest are specified to the OpenCitations API using\n`DOIs. <https://en.wikipedia.org/wiki/Digital_object_identifier>`_\n\nCurrent LISC implementations support collecting the number of citations and references\nfor papers, specified by their DOIs.\n\n\n"
      ]
    },
    {
      "cell_type": "code",
      "execution_count": null,
      "metadata": {
        "collapsed": false
      },
      "outputs": [],
      "source": [
        "# Set up a list of DOIs to collect data for\ndois = ['10.1007/s00228-017-2226-2', '10.1186/1756-8722-6-59']"
      ]
    },
    {
      "cell_type": "markdown",
      "metadata": {},
      "source": [
        "Citation Data\n-------------\n\nCitations here refer to the papers that are cited by a particular paper.\n\n\n"
      ]
    },
    {
      "cell_type": "code",
      "execution_count": null,
      "metadata": {
        "collapsed": false
      },
      "outputs": [],
      "source": [
        "# Collect citation data\ncitations, meta_data = collect_citations(dois, util='citations')"
      ]
    },
    {
      "cell_type": "code",
      "execution_count": null,
      "metadata": {
        "collapsed": false
      },
      "outputs": [],
      "source": [
        "# Check out the number of citations per DOI\nfor doi, n_cites in citations.items():\n    print('{:25s} \\t : {}'.format(doi, n_cites))"
      ]
    },
    {
      "cell_type": "markdown",
      "metadata": {},
      "source": [
        "Reference Data\n--------------\n\nReferences here refer to papers that are cited by a specified paper.\n\n\n"
      ]
    },
    {
      "cell_type": "code",
      "execution_count": null,
      "metadata": {
        "collapsed": false
      },
      "outputs": [],
      "source": [
        "# Collect reference data\nreferences, meta_data = collect_citations(dois, util='references')"
      ]
    },
    {
      "cell_type": "code",
      "execution_count": null,
      "metadata": {
        "collapsed": false
      },
      "outputs": [],
      "source": [
        "# Check out the number of references per DOI\nfor doi, n_refs in references.items():\n    print('{:25s} \\t : {}'.format(doi, n_refs))"
      ]
    },
    {
      "cell_type": "markdown",
      "metadata": {},
      "source": [
        "More Complex Data Collection\n----------------------------\n\nCurrently the 'collect' functions available in LISC support collecting counts of\nreferences and citations.\n\nThe OpenCitations API tools do provide more information, including meta-data on individual\npapers that are cited and included in references.\n\nLISC is also very open to contributions. If you are interested in developing\nmore LISC integration to help collect and analyze more citation related data,\nfeel free to get involved with the project on `Github <https://github.com/lisc-tools/lisc>`_.\n\n\n"
      ]
    }
  ],
  "metadata": {
    "kernelspec": {
      "display_name": "Python 3",
      "language": "python",
      "name": "python3"
    },
    "language_info": {
      "codemirror_mode": {
        "name": "ipython",
        "version": 3
      },
      "file_extension": ".py",
      "mimetype": "text/x-python",
      "name": "python",
      "nbconvert_exporter": "python",
      "pygments_lexer": "ipython3",
      "version": "3.7.3"
    }
  },
  "nbformat": 4,
  "nbformat_minor": 0
}