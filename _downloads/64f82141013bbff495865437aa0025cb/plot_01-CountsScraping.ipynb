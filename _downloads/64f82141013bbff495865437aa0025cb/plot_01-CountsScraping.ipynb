{
  "cells": [
    {
      "cell_type": "code",
      "execution_count": null,
      "metadata": {
        "collapsed": false
      },
      "outputs": [],
      "source": [
        "%matplotlib inline"
      ]
    },
    {
      "cell_type": "markdown",
      "metadata": {},
      "source": [
        "\nTutorial 01 - Counts Scraping\n=============================\n\n"
      ]
    },
    {
      "cell_type": "markdown",
      "metadata": {},
      "source": [
        "This tutorial covers running scrapes, for count data.\n\n"
      ]
    },
    {
      "cell_type": "markdown",
      "metadata": {},
      "source": [
        "Counts\n------\n\n'Counts' scrapes for co-occurence of given set(s) of terms.\n\nRunning scrapes is available in both a 'functions' and 'objects' approach.\n\n\n"
      ]
    },
    {
      "cell_type": "markdown",
      "metadata": {},
      "source": [
        "Set up some test data\n Note that each entry is itself a list\n\n"
      ]
    },
    {
      "cell_type": "code",
      "execution_count": null,
      "metadata": {
        "collapsed": false
      },
      "outputs": [],
      "source": [
        "terms_a = [['brain'], ['cognition']]\nterms_b = [['body'], ['biology'], ['disease']]"
      ]
    },
    {
      "cell_type": "markdown",
      "metadata": {},
      "source": [
        "Counts\n------\n\n'Counts' scraping gets data about the co-occurence of terms of interest.\n\nSpecifically, it search titles and abstracts, and checks how often two terms of interest appear together in the literature.\n\n"
      ]
    },
    {
      "cell_type": "code",
      "execution_count": null,
      "metadata": {
        "collapsed": false
      },
      "outputs": [],
      "source": [
        "# Import LISC - Count\nfrom lisc.count import Count\nfrom lisc.scrape import scrape_counts"
      ]
    },
    {
      "cell_type": "markdown",
      "metadata": {},
      "source": [
        "Running a scrape with the scrape_counts function\n~~~~~~~~~~~~~~~~~~~~~~~~~~~~~~~~~~~~~~~~~~~~~~~~\n\n"
      ]
    },
    {
      "cell_type": "code",
      "execution_count": null,
      "metadata": {
        "collapsed": false
      },
      "outputs": [],
      "source": [
        "# Run a scrape of 'counts' (co-occurence data) - across a single list of terms\ndat_numbers, dat_percent, term_counts, _, meta_dat = scrape_counts(terms_a, db='pubmed', verbose=True)"
      ]
    },
    {
      "cell_type": "code",
      "execution_count": null,
      "metadata": {
        "collapsed": false
      },
      "outputs": [],
      "source": [
        "# Check out how many papers where found for each combination\nprint(dat_numbers)"
      ]
    },
    {
      "cell_type": "code",
      "execution_count": null,
      "metadata": {
        "collapsed": false
      },
      "outputs": [],
      "source": [
        "# Check out the percent of paper overlap\nprint(dat_percent)"
      ]
    },
    {
      "cell_type": "code",
      "execution_count": null,
      "metadata": {
        "collapsed": false
      },
      "outputs": [],
      "source": [
        "# Print out many papers found for each term\nfor term, count in zip(terms_a, term_counts):\n    print('{:12} : {}'.format(term[0], count))"
      ]
    },
    {
      "cell_type": "markdown",
      "metadata": {},
      "source": [
        "When given a single set of terms, the 'Counts' scrapes each term  against each other term.\n\nYou can also specify different sets of terms to scrape, as below, whereby each term in list A is scraped for co-occurence for each term in list B (but not to other terms in list A).\n\n"
      ]
    },
    {
      "cell_type": "code",
      "execution_count": null,
      "metadata": {
        "collapsed": false
      },
      "outputs": [],
      "source": [
        "# Run a scrape of 'counts' (co-occurence data) across two different lists of terms\ndat_numbers, dat_percent, term_counts_a, term_counts_b, meta_dat = scrape_counts(\n    terms_lst_a=terms_a, terms_lst_b=terms_b, db='pubmed', verbose=True)"
      ]
    },
    {
      "cell_type": "markdown",
      "metadata": {},
      "source": [
        "Count Object\n------------\n\nThere is also an OOP interface available in LISC, to organize the terms and data, and run scrapes.\n\nNote that the underlying code is the same - the count object ultimately calls the same scrape function as above.\n\n"
      ]
    },
    {
      "cell_type": "code",
      "execution_count": null,
      "metadata": {
        "collapsed": false
      },
      "outputs": [],
      "source": [
        "# Initialize counts object\ncounts = Count()"
      ]
    },
    {
      "cell_type": "code",
      "execution_count": null,
      "metadata": {
        "collapsed": false
      },
      "outputs": [],
      "source": [
        "# Set terms to run\ncounts.set_terms(terms_a)"
      ]
    },
    {
      "cell_type": "code",
      "execution_count": null,
      "metadata": {
        "collapsed": false
      },
      "outputs": [],
      "source": [
        "# Run scrape\ncounts.run_scrape(verbose=True)"
      ]
    },
    {
      "cell_type": "markdown",
      "metadata": {},
      "source": [
        "The Counts object also comes with some helper methods to check out the data.\n\n"
      ]
    },
    {
      "cell_type": "code",
      "execution_count": null,
      "metadata": {
        "collapsed": false
      },
      "outputs": [],
      "source": [
        "# Check the highest associations for each term\ncounts.check_cooc()"
      ]
    },
    {
      "cell_type": "code",
      "execution_count": null,
      "metadata": {
        "collapsed": false
      },
      "outputs": [],
      "source": [
        "# Check how many papers were found for each search term\ncounts.check_counts()"
      ]
    },
    {
      "cell_type": "code",
      "execution_count": null,
      "metadata": {
        "collapsed": false
      },
      "outputs": [],
      "source": [
        "# Check the top term\ncounts.check_top()"
      ]
    },
    {
      "cell_type": "markdown",
      "metadata": {},
      "source": [
        "Co-occurence data - different word lists\n\n"
      ]
    },
    {
      "cell_type": "code",
      "execution_count": null,
      "metadata": {
        "collapsed": false
      },
      "outputs": [],
      "source": [
        "# Initialize count object\ncounts_two = Count()"
      ]
    },
    {
      "cell_type": "code",
      "execution_count": null,
      "metadata": {
        "collapsed": false
      },
      "outputs": [],
      "source": [
        "# Set terms lists\n#  Different terms lists are indexed by the 'A' and 'B' labels\ncounts_two.set_terms(terms_a, 'A')\ncounts_two.set_terms(terms_b, 'B')"
      ]
    },
    {
      "cell_type": "code",
      "execution_count": null,
      "metadata": {
        "collapsed": false
      },
      "outputs": [],
      "source": [
        "# Scrape co-occurence data\ncounts_two.run_scrape()"
      ]
    },
    {
      "cell_type": "code",
      "execution_count": null,
      "metadata": {
        "collapsed": false
      },
      "outputs": [],
      "source": [
        "# From there you can use all the same methods to explore the data\n#  You can also specify which list to check\ncounts_two.check_cooc('A')\nprint('\\n')\ncounts_two.check_cooc('B')"
      ]
    },
    {
      "cell_type": "markdown",
      "metadata": {},
      "source": [
        "Synonyms & Exclusion Words\n--------------------------\n\nThere is also support for adding synonyms and exclusion words.\n\nSynonyms are combined with the 'OR' operator, meaning results will be returned if they include any of the given terms.\n\nExclusion words are combined with the 'NOT' operator, meaning entries will be excluded if they include these terms.\n\nFor example, a using search terms ['gene', 'genetic'] with exclusion words ['protein'] creates the search:\n- (\"gene\"OR\"genetic\"NOT\"protein\")\n\n"
      ]
    },
    {
      "cell_type": "code",
      "execution_count": null,
      "metadata": {
        "collapsed": false
      },
      "outputs": [],
      "source": [
        "# Initialize Count object\ncounts = Count()"
      ]
    },
    {
      "cell_type": "code",
      "execution_count": null,
      "metadata": {
        "collapsed": false
      },
      "outputs": [],
      "source": [
        "# Set up terms with synonyms\n#  Being able to include synonyms is the reason each term entry is itself a list\nterms_lst = [['gene', 'genetic'], ['cortex', 'cortical']]\n\n# Set up exclusions\n#  You can also include synonyms for exclusions - which is why each entry is also a list\nexcl_lst = [['protein'], ['subcortical']]\n\n# Set the terms & exclusions\ncounts.set_terms(terms_lst, 'A')\ncounts.set_exclusions(excl_lst, 'A')"
      ]
    },
    {
      "cell_type": "code",
      "execution_count": null,
      "metadata": {
        "collapsed": false
      },
      "outputs": [],
      "source": [
        "# You can check which terms are loaded\ncounts.terms['A'].check_terms()"
      ]
    },
    {
      "cell_type": "code",
      "execution_count": null,
      "metadata": {
        "collapsed": false
      },
      "outputs": [],
      "source": [
        "# Check exclusion words\ncounts.terms['A'].check_exclusions()"
      ]
    },
    {
      "cell_type": "code",
      "execution_count": null,
      "metadata": {
        "collapsed": false
      },
      "outputs": [],
      "source": [
        "# LISC objects will use the first item of each terms lists as a label for that term\ncounts.terms['A'].labels"
      ]
    },
    {
      "cell_type": "markdown",
      "metadata": {},
      "source": [
        "Note that searching across different terms lists, and using synonyms and exclusions can all also be done directly using the scrape_counts function.\n\n"
      ]
    }
  ],
  "metadata": {
    "kernelspec": {
      "display_name": "Python 3",
      "language": "python",
      "name": "python3"
    },
    "language_info": {
      "codemirror_mode": {
        "name": "ipython",
        "version": 3
      },
      "file_extension": ".py",
      "mimetype": "text/x-python",
      "name": "python",
      "nbconvert_exporter": "python",
      "pygments_lexer": "ipython3",
      "version": "3.7.1"
    }
  },
  "nbformat": 4,
  "nbformat_minor": 0
}