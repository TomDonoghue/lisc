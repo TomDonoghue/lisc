{
  "cells": [
    {
      "cell_type": "code",
      "execution_count": null,
      "metadata": {
        "collapsed": false
      },
      "outputs": [],
      "source": [
        "%matplotlib inline"
      ]
    },
    {
      "cell_type": "markdown",
      "metadata": {},
      "source": [
        "\nWords with Functions\n====================\n\nCollect article text data and metadata, using a function oriented approach.\n\n"
      ]
    },
    {
      "cell_type": "markdown",
      "metadata": {},
      "source": [
        "Function Approach: collect_words\n~~~~~~~~~~~~~~~~~~~~~~~~~~~~~~~~\n\nThe core function for collecting words data is the `collect_words` function.\n\nGiven a list of search terms, this function handles all the requests to collect the data.\n\nThe parameters for the `collect_words` function are the same as available and described\nin the `Words` tutorial. Here we will briefly explore collecting data directly using\nthe function approach.\n\n\n"
      ]
    },
    {
      "cell_type": "code",
      "execution_count": null,
      "metadata": {
        "collapsed": false
      },
      "outputs": [],
      "source": [
        "# Import function to collect data\nfrom lisc.collect import collect_words"
      ]
    },
    {
      "cell_type": "code",
      "execution_count": null,
      "metadata": {
        "collapsed": false
      },
      "outputs": [],
      "source": [
        "# Set some terms to search for\nterms = [['brain'], ['body']]"
      ]
    },
    {
      "cell_type": "code",
      "execution_count": null,
      "metadata": {
        "collapsed": false
      },
      "outputs": [],
      "source": [
        "# Collect words data, setting the collection return data for at most 5 papers per term\nresults, meta_data = collect_words(terms, retmax='5', usehistory=False,\n                               save_and_clear=False, verbose=True)"
      ]
    },
    {
      "cell_type": "code",
      "execution_count": null,
      "metadata": {
        "collapsed": false
      },
      "outputs": [],
      "source": [
        "# The meta data includes some information on the database from which data was collected\nmeta_data['db_info']"
      ]
    },
    {
      "cell_type": "markdown",
      "metadata": {},
      "source": [
        "LISC uses custom `Data` objects to store collected article data.\n\n\n"
      ]
    },
    {
      "cell_type": "code",
      "execution_count": null,
      "metadata": {
        "collapsed": false
      },
      "outputs": [],
      "source": [
        "# The function returns a list of Articles objects\nprint(results)"
      ]
    },
    {
      "cell_type": "code",
      "execution_count": null,
      "metadata": {
        "collapsed": false
      },
      "outputs": [],
      "source": [
        "# Each `Articles` object holds the data for the collected papers for a given term\nres1 = results[0]"
      ]
    },
    {
      "cell_type": "code",
      "execution_count": null,
      "metadata": {
        "collapsed": false
      },
      "outputs": [],
      "source": [
        "# Print out some of the data\nprint(res1.n_articles, '\\n')\nprint('\\n'.join(res1.titles), '\\n')"
      ]
    },
    {
      "cell_type": "markdown",
      "metadata": {},
      "source": [
        "To further explore the data collected and available, and what can be accessed,\ncheck out the documentation for the `Articles` object, and what attributes it contains.\n\n\n"
      ]
    }
  ],
  "metadata": {
    "kernelspec": {
      "display_name": "Python 3",
      "language": "python",
      "name": "python3"
    },
    "language_info": {
      "codemirror_mode": {
        "name": "ipython",
        "version": 3
      },
      "file_extension": ".py",
      "mimetype": "text/x-python",
      "name": "python",
      "nbconvert_exporter": "python",
      "pygments_lexer": "ipython3",
      "version": "3.7.3"
    }
  },
  "nbformat": 4,
  "nbformat_minor": 0
}