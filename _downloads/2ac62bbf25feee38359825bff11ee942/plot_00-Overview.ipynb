{
  "cells": [
    {
      "cell_type": "code",
      "execution_count": null,
      "metadata": {
        "collapsed": false
      },
      "outputs": [],
      "source": [
        "%matplotlib inline"
      ]
    },
    {
      "cell_type": "markdown",
      "metadata": {},
      "source": [
        "\nTutorial 00: LISC Overview\n==========================\n\nAn overview of the LISC code organization and approach.\n\n"
      ]
    },
    {
      "cell_type": "markdown",
      "metadata": {},
      "source": [
        "LISC Overview\n-------------\n\nLISC - or 'Literature Scanner' - is a module for collecting and analyzing scientific literature.\n\nLISC serves mainly as a wrapper around available application programmer interfaces (APIs)\nthat provide access to databases of scientific literature and related data.\n\nIn this overview tutorial, we will first explore the main aspects of LISC, such as\nhow it handles terms, data, files and requests, and the overall code structure.\n\n\n"
      ]
    },
    {
      "cell_type": "markdown",
      "metadata": {},
      "source": [
        "Available Analyses\n~~~~~~~~~~~~~~~~~~\n\nThe functionality of LISC comes from on the APIs that are supported.\n\nCurrently supported external APIs include the NCBI EUtils, offering access to the Pubmed\ndatabase, and the OpenCitations API, offering access to citation data.\n\nThe data collection and analysis approaches available through LISC include:\n\nEUtils:\n  - Counts: collecting word co-occurrence data, counting how often terms occur together.\n  - Words: collecting text data and meta-data from scientific articles.\n\nOpenCitations:\n  - Citations: collecting citation data, counting the number of citations to and from articles.\n\n\n"
      ]
    },
    {
      "cell_type": "markdown",
      "metadata": {},
      "source": [
        "LISC Objects\n------------\n\nLISC is object oriented, meaning it uses objects to handle search terms and collect data.\n\nHere we will first explore the `Base` object, the underlying object used for\ndata collections and analysis with EUtils.\n\nNote that you will not otherwise use the `Base` object directly, but that it is the\nunderlying object for the `Counts` and `Words` objects.\n\n\n"
      ]
    },
    {
      "cell_type": "code",
      "execution_count": null,
      "metadata": {
        "collapsed": false
      },
      "outputs": [],
      "source": [
        "from lisc.objects.base import Base"
      ]
    },
    {
      "cell_type": "code",
      "execution_count": null,
      "metadata": {
        "collapsed": false
      },
      "outputs": [],
      "source": [
        "# Initialize a base object\nbase = Base()"
      ]
    },
    {
      "cell_type": "markdown",
      "metadata": {},
      "source": [
        "Search Terms\n------------\n\nTo collect scientific articles and associated data, we first need to use search terms to\nfind the literature of interest.\n\nBy default, LISC uses all search terms as used as exact term matches, which is\nindicated using double quotes, as \"search term\".\n\n\n"
      ]
    },
    {
      "cell_type": "code",
      "execution_count": null,
      "metadata": {
        "collapsed": false
      },
      "outputs": [],
      "source": [
        "# Set some terms\nterms = [['chemistry'], ['biology']]\n\n# Add terms to the object\nbase.add_terms(terms)"
      ]
    },
    {
      "cell_type": "code",
      "execution_count": null,
      "metadata": {
        "collapsed": false
      },
      "outputs": [],
      "source": [
        "# Check the terms added to the base object\nbase.check_terms()"
      ]
    },
    {
      "cell_type": "markdown",
      "metadata": {},
      "source": [
        "Complex Search Terms\n--------------------\n\nSo far, we have chosen some search terms, as single terms, to use as queries,\nand added them to our object.\n\nSometimes we might want more than just particular search words. We might want to\nspecify synonyms and/or use include inclusions or exclusion words.\n\nSynonyms\n~~~~~~~~\n\nTo include synonyms, just add more entries to the input list of terms.\n\nSynonyms are combined with the 'OR' operator, meaning results will\nbe returned if they include any of the given terms.\n\nFor example, the set of search terms ['brain', 'cortex'] is interpreted as:\n'(\"brain\"OR\"cortex\")'.\n\nBeing able to include synonyms is the reason each term entry is itself a list.\n\nInclusion & Exclusion Words\n~~~~~~~~~~~~~~~~~~~~~~~~~~~\n\nSometimes we might need to control the results that we get, by including inclusion\nand exclusion words.\n\nInclusions words are words that must also appear in the document for a result\nto be returned. Inclusions words are combined with the 'AND' operator, meaning entries\nwill only be included if they also include these words.\n\nFor example, the search terms ['brain', 'cortex'] with the inclusion word ['biology']\nis interpreted as '(\"brain\"OR\"cortex\")AND(\"biology\")'.\n\nExclusions words are words that must not be included in a result in order for it\nto be returned. Exclusion words are combined with the 'NOT' operator, meaning entries\nwill be excluded if they include these terms.\n\nFor example, the search terms ['brain', 'cortex'] with the exclusion word ['body']\nis interpreted as '(\"brain\"OR\"cortex\")NOT(\"body\")'.\n\nPutting it all Together\n~~~~~~~~~~~~~~~~~~~~~~~\n\nSynonyms, inclusion and exclusion words can all be used together.\nYou can also specify synonyms for inclusion and exclusion words.\n\nFor example, the following set of search term components:\n\n- search terms ['brain', 'cortex']\n- inclusion words ['biology', 'biochemistry']\n- exclusion words ['body', 'corporeal']\n\nAll combine to give the seach term of:\n\n- `'(\"gene\"OR\"genetic)AND(\"biology\"OR\"biochemistry\")NOT(\"body\"OR\"corporeal)'`\n\nInclusion and exclusion words should be lists of the same length as the\nnumber of search terms. Each inclusion and exclusion term is used for the\ncorresponding search term, matched by index. If there are no inclusions / exclusions\nfor a given search term, leave it empty with an empty list.\n\nNow let's update our set of terms, to include some synonyms, inclusions and exclusions.\n\n\n"
      ]
    },
    {
      "cell_type": "code",
      "execution_count": null,
      "metadata": {
        "collapsed": false
      },
      "outputs": [],
      "source": [
        "# Set up a list of multiple terms, each with synonyms\nterms = [['gene', 'genetic'], ['cortex', 'cortical']]\n\n# Add the terms\nbase.add_terms(terms)"
      ]
    },
    {
      "cell_type": "code",
      "execution_count": null,
      "metadata": {
        "collapsed": false
      },
      "outputs": [],
      "source": [
        "# Set up inclusions and exclusions\n#   Each is a list, that should be the same length as the number of terms\ninclusions = [['brain'], ['body']]\nexclusions = [['protein'], ['subcortical']]\n\n# Add the inclusion and exclusions\nbase.add_terms(inclusions, 'inclusions')\nbase.add_terms(exclusions, 'exclusions')"
      ]
    },
    {
      "cell_type": "code",
      "execution_count": null,
      "metadata": {
        "collapsed": false
      },
      "outputs": [],
      "source": [
        "# Check the loaded terms\nbase.check_terms()"
      ]
    },
    {
      "cell_type": "code",
      "execution_count": null,
      "metadata": {
        "collapsed": false
      },
      "outputs": [],
      "source": [
        "# Check inclusion & exclusion words\nbase.check_terms('inclusions')\nprint('\\n')\nbase.check_terms('exclusions')"
      ]
    },
    {
      "cell_type": "markdown",
      "metadata": {},
      "source": [
        "Labels\n~~~~~~\n\nSince search terms with synonyms and exclusions are complex, in that they have multiple parts,\nLISC also creates and uses 'labels' for each search term. The label for each term is the\nfirst word from the search term list.\n\n\n"
      ]
    },
    {
      "cell_type": "code",
      "execution_count": null,
      "metadata": {
        "collapsed": false
      },
      "outputs": [],
      "source": [
        "# Check the label for the current terms\nbase.labels"
      ]
    },
    {
      "cell_type": "markdown",
      "metadata": {},
      "source": [
        "LISC Objects\n~~~~~~~~~~~~\n\nThough LISC offers an object-oriented approach, all the core procedures used for\ncollecting and analyzing data are implemented and available as stand-alone functions.\n\nThe objects serve primarily to help organize the data and support common analyses.\n\nIf you prefer, you can use the functions directly, in particular, for more custom approaches.\n\nSee the examples page for some examples of using LISC directly with functions.\n\n\n"
      ]
    },
    {
      "cell_type": "markdown",
      "metadata": {},
      "source": [
        "Database Management\n-------------------\n\nWhen collecting and analysing literature, there can be a lot of data, and therefore\na lot of files, to keep track of.\n\nLISC offers a database structure. If you use this file structure, LISC functions\ncan automatically load and save files to an organized output structure.\n\n\n"
      ]
    },
    {
      "cell_type": "code",
      "execution_count": null,
      "metadata": {
        "collapsed": false
      },
      "outputs": [],
      "source": [
        "from lisc.utils.db import SCDB, create_file_structure"
      ]
    },
    {
      "cell_type": "code",
      "execution_count": null,
      "metadata": {
        "collapsed": false
      },
      "outputs": [],
      "source": [
        "# Create a database file structure.\n#   When called without a path input, the folder structure is made in the current directory.\ndb = create_file_structure()"
      ]
    },
    {
      "cell_type": "code",
      "execution_count": null,
      "metadata": {
        "collapsed": false
      },
      "outputs": [],
      "source": [
        "# Check the file structure for the created database\ndb.check_file_structure()"
      ]
    }
  ],
  "metadata": {
    "kernelspec": {
      "display_name": "Python 3",
      "language": "python",
      "name": "python3"
    },
    "language_info": {
      "codemirror_mode": {
        "name": "ipython",
        "version": 3
      },
      "file_extension": ".py",
      "mimetype": "text/x-python",
      "name": "python",
      "nbconvert_exporter": "python",
      "pygments_lexer": "ipython3",
      "version": "3.7.3"
    }
  },
  "nbformat": 4,
  "nbformat_minor": 0
}