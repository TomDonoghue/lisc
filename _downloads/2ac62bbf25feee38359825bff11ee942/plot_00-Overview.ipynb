{
  "cells": [
    {
      "cell_type": "code",
      "execution_count": null,
      "metadata": {
        "collapsed": false
      },
      "outputs": [],
      "source": [
        "%matplotlib inline"
      ]
    },
    {
      "cell_type": "markdown",
      "metadata": {},
      "source": [
        "\nTutorial 00: LISC Overview\n==========================\n\nAn overview of the LISC code organization and approach.\n\n"
      ]
    },
    {
      "cell_type": "markdown",
      "metadata": {},
      "source": [
        "LISC Overview\n-------------\n\nLISC, or 'Literature Scanner', is a module for collecting and analyzing data and\ninformation from the scientific literature.\n\nIn this overview tutorial, we will first explore the main aspects of LISC, and\nhow it handles terms, data, files and requests.\n\nLISC serves as a wrapper around available application programmer interfaces (APIs)\nfor interacting with databases that store scientific literature and related data.\n\nIn this first overview, we will explore how LISC's code structure.\n\n\n"
      ]
    },
    {
      "cell_type": "markdown",
      "metadata": {},
      "source": [
        "Available Analyses\n~~~~~~~~~~~~~~~~~~\n\nThe functionality of LISC is dependent on the APIs that are supported.\n\nCurrently supported external APIs include the NCBI EUtils, offering access to the Pubmed\ndatabase, and the OpenCitations API, offering access to citation data.\n\nEUtils:\n  - Counts: collecting word co-occurence data, counting how often terms occur together.\n  - Words: collecting text data and meta-data from papers.\n\nOpenCitations:\n  - Cites: collecting citation data, counting the number of citations papers have\n\n\n"
      ]
    },
    {
      "cell_type": "markdown",
      "metadata": {},
      "source": [
        "LISC Objects\n------------\n\nLISC is object oriented, meaning it offers and uses objects in order to handle\nsearch terms, collected data, and API requests.\n\nHere we will first explore the `Base` object, the underlying\nobject structure for any data collections using search terms.\n\nNote that you will not otherwise use the `Base` object directly, but that it is the\nunderlying object for the `Counts` and `Words` objects.\n\n\n"
      ]
    },
    {
      "cell_type": "code",
      "execution_count": null,
      "metadata": {
        "collapsed": false
      },
      "outputs": [],
      "source": [
        "from lisc.objects.base import Base"
      ]
    },
    {
      "cell_type": "code",
      "execution_count": null,
      "metadata": {
        "collapsed": false
      },
      "outputs": [],
      "source": [
        "# Initialize a base object\nbase = Base()"
      ]
    },
    {
      "cell_type": "markdown",
      "metadata": {},
      "source": [
        "Search Terms\n------------\n\nFor collecting papers and literature data, one first has to select search terms to\nfind the literature of interest.\n\nNote that by default, all search terms as used as exact term matches.\n\n\n"
      ]
    },
    {
      "cell_type": "code",
      "execution_count": null,
      "metadata": {
        "collapsed": false
      },
      "outputs": [],
      "source": [
        "# Set some terms\nterms = [['chemistry'], ['biology']]\n\n# Add terms to the object\nbase.add_terms(terms)"
      ]
    },
    {
      "cell_type": "code",
      "execution_count": null,
      "metadata": {
        "collapsed": false
      },
      "outputs": [],
      "source": [
        "# Check the terms added to the base object\nbase.check_terms()"
      ]
    },
    {
      "cell_type": "markdown",
      "metadata": {},
      "source": [
        "Complex Search Terms\n--------------------\n\nSo far, we have chosen some search terms, as single terms, to use as queries,\nand added them to our object.\n\nSometimes we might want more than just particular search words. We might want to\nspecify synonyms and/or use include inclusions or exclusion words.\n\nSynonyms\n~~~~~~~~\n\nTo include synonyms, just add more entries to the input list of terms.\n\nSynonyms are combined with the 'OR' operator, meaning results will\nbe returned if they include any of the given terms.\n\nFor example, the set of search terms ['brain', 'cortex'] is interpreted as:\n'(\"brain\"OR\"cortex\")'.\n\nNote that being able to include synonyms is the reason each term entry is itself a list.\n\nInclusion & Exclusion Words\n~~~~~~~~~~~~~~~~~~~~~~~~~~~\n\nSometimes we might need to control the results that we get, by including inclusion\nand exclusion words. Inclusions words are words that must also appear in the document\nfor a result to be returned. Exclusions words are words that must not be included in a\nresult in order for it to be returned.\n\nInclusions words are combined with the 'AND' operator, meaning entries\nwill only be included if they also include these words.\n\nFor example, the search terms ['brain', 'cortex'] with the inclusion word ['biology']\nis interpreted as '(\"brain\"OR\"cortex\")AND(\"biology\")'.\n\nExclusion words are combined with the 'NOT' operator, meaning entries\nwill be excluded if they include these terms.\n\nFor example, the search terms ['brain', 'cortex'] with the exclusion word ['body']\nis interpreted as '(\"brain\"OR\"cortex\")NOT(\"body\")'.\n\nPutting it all Together\n~~~~~~~~~~~~~~~~~~~~~~~\n\nSynonyms, inclusion and exclusion words can all be used together. Note also that\nyou can also specific synonyms for inclusion and exclusion words.\n\nFor example, the following set of search term components:\n\n- search terms ['brain', 'cortex']\n- inclusion words ['biology', 'biochemistry']\n- exclusion words ['body', 'corporeal']\n\nAll combine to give the seach term of:\n\n- `'(\"gene\"OR\"genetic)AND(\"biology\"OR\"biochemistry\")NOT(\"body\"OR\"corporeal)'`\n\nNote that inclusion and exclusion words are should be lists of the same\nlength as the number of search terms. Each inclusion and exclusion term\nis used for the corresponding search term.\n\nNow let's update our set of terms, to include some synonyms, inclusions and exclusions.\n\n\n"
      ]
    },
    {
      "cell_type": "code",
      "execution_count": null,
      "metadata": {
        "collapsed": false
      },
      "outputs": [],
      "source": [
        "# Set up a list of multiple terms, each with synonyms\nterms = [['gene', 'genetic'], ['cortex', 'cortical']]\n\n# Add the terms\nbase.add_terms(terms)"
      ]
    },
    {
      "cell_type": "code",
      "execution_count": null,
      "metadata": {
        "collapsed": false
      },
      "outputs": [],
      "source": [
        "# Set up inclusions and exclusions\n#   Each is a list, that should be the same length as the number of terms\ninclusions = [['brain'], ['body']]\nexclusions = [['protein'], ['subcortical']]\n\n# Add the inclusion and exclusions\nbase.add_terms(inclusions, 'inclusions')\nbase.add_terms(exclusions, 'exclusions')"
      ]
    },
    {
      "cell_type": "code",
      "execution_count": null,
      "metadata": {
        "collapsed": false
      },
      "outputs": [],
      "source": [
        "# Check the loaded terms\nbase.check_terms()"
      ]
    },
    {
      "cell_type": "code",
      "execution_count": null,
      "metadata": {
        "collapsed": false
      },
      "outputs": [],
      "source": [
        "# Check inclusion & exclusion words\nbase.check_terms('inclusions')\nbase.check_terms('exclusions')"
      ]
    },
    {
      "cell_type": "markdown",
      "metadata": {},
      "source": [
        "Labels\n~~~~~~\n\nSince search terms with synonyms and exclusions are complex (have multiple parts), LISC\nwill also create 'labels' for each search term, where the label for each term is the\nfirst item in each term list.\n\n\n"
      ]
    },
    {
      "cell_type": "code",
      "execution_count": null,
      "metadata": {
        "collapsed": false
      },
      "outputs": [],
      "source": [
        "# Check the label for the current terms\nbase.labels"
      ]
    },
    {
      "cell_type": "markdown",
      "metadata": {},
      "source": [
        "LISC Objects\n~~~~~~~~~~~~\n\nThough LISC offers an object-oriented approach, note that the core procedures available\nfor scraping and analyzing data are implemented as stand-alone functions.\n\nThe objects serve primarily to help organize the data and support common analyses.\n\nIf you prefer, you can use the functions directly, in particular, for more custom approaches.\n\nSee the examples page for some examples of using LISC directly with functions.\n\n\n"
      ]
    },
    {
      "cell_type": "markdown",
      "metadata": {},
      "source": [
        "Database Management\n-------------------\n\nWhen collecting and analysing literature, there can be a lot of data, and therefore\na lot of files, to keep track of.\n\nFor that reason, LISC offers a database structure\n\nIf you use this file structure, LISC functions can automatically load and save files in an\nway using this file structure.\n\n\n"
      ]
    },
    {
      "cell_type": "code",
      "execution_count": null,
      "metadata": {
        "collapsed": false
      },
      "outputs": [],
      "source": [
        "from lisc.core.db import SCDB, create_file_structure"
      ]
    },
    {
      "cell_type": "code",
      "execution_count": null,
      "metadata": {
        "collapsed": false
      },
      "outputs": [],
      "source": [
        "# Create a database file structure.\n#   Note that when called without a path argument input,\n#   the folder structure is made in the current directory.\ndb = create_file_structure()"
      ]
    },
    {
      "cell_type": "code",
      "execution_count": null,
      "metadata": {
        "collapsed": false
      },
      "outputs": [],
      "source": [
        "# Check the file structure for the created database\ndb.check_file_structure()"
      ]
    }
  ],
  "metadata": {
    "kernelspec": {
      "display_name": "Python 3",
      "language": "python",
      "name": "python3"
    },
    "language_info": {
      "codemirror_mode": {
        "name": "ipython",
        "version": 3
      },
      "file_extension": ".py",
      "mimetype": "text/x-python",
      "name": "python",
      "nbconvert_exporter": "python",
      "pygments_lexer": "ipython3",
      "version": "3.7.3"
    }
  },
  "nbformat": 4,
  "nbformat_minor": 0
}