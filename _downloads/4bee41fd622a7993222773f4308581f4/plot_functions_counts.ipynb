{
  "cells": [
    {
      "cell_type": "code",
      "execution_count": null,
      "metadata": {
        "collapsed": false
      },
      "outputs": [],
      "source": [
        "%matplotlib inline"
      ]
    },
    {
      "cell_type": "markdown",
      "metadata": {},
      "source": [
        "\nCounts with Functions\n=====================\n\nCollect word co-occurence data, using the underlying functions from LISC.\n\n"
      ]
    },
    {
      "cell_type": "markdown",
      "metadata": {},
      "source": [
        "Function Approach: collect_counts\n~~~~~~~~~~~~~~~~~~~~~~~~~~~~~~~~~\n\nThe core function for collecting co-occurence data is the `collect_counts` function.\n\nGiven a list of search terms, this function handles all the requests to collect the data.\n\n\n"
      ]
    },
    {
      "cell_type": "code",
      "execution_count": null,
      "metadata": {
        "collapsed": false
      },
      "outputs": [],
      "source": [
        "# Import function to collect data, and helper functions to analyze co-occurence data\nfrom lisc.collect import collect_counts\nfrom lisc.analysis.counts import compute_normalization, compute_association_index"
      ]
    },
    {
      "cell_type": "code",
      "execution_count": null,
      "metadata": {
        "collapsed": false
      },
      "outputs": [],
      "source": [
        "# Set some terms to search for\nterms_a = [['protein'], ['gene']]\nterms_b = [['heart'], ['lung']]"
      ]
    },
    {
      "cell_type": "code",
      "execution_count": null,
      "metadata": {
        "collapsed": false
      },
      "outputs": [],
      "source": [
        "# Collect 'counts' (co-occurence data) - across a single list of terms\ncoocs, term_counts, meta_dat = collect_counts(terms_a, db='pubmed', verbose=True)"
      ]
    },
    {
      "cell_type": "code",
      "execution_count": null,
      "metadata": {
        "collapsed": false
      },
      "outputs": [],
      "source": [
        "# Check how many papers were found for each combination\nprint(coocs)"
      ]
    },
    {
      "cell_type": "code",
      "execution_count": null,
      "metadata": {
        "collapsed": false
      },
      "outputs": [],
      "source": [
        "# Print out how many papers found for each term\nfor term, count in zip(terms_a, term_counts):\n    print('{:12} : {}'.format(term[0], count))"
      ]
    },
    {
      "cell_type": "markdown",
      "metadata": {},
      "source": [
        "When given a single set of terms, the function collects counts of each term\nagainst every other term in the list.\n\nYou can also specify different sets of terms to collect. In the example below,\neach term in list A is collected measuring co-occurences with each term in list B.\n\n\n"
      ]
    },
    {
      "cell_type": "code",
      "execution_count": null,
      "metadata": {
        "collapsed": false
      },
      "outputs": [],
      "source": [
        "# Collect 'counts' (co-occurence data) across two different lists of terms\ncoocs, term_counts, meta_dat = collect_counts(\n    terms_a=terms_a, terms_b=terms_b, db='pubmed', verbose=True)"
      ]
    },
    {
      "cell_type": "markdown",
      "metadata": {},
      "source": [
        "Calculating Co-Occurence Scores\n~~~~~~~~~~~~~~~~~~~~~~~~~~~~~~~\n\nOnce the co-occurence data is collected, we often want to compute a normalization\nor transform of the data.\n\nSome more details on the measures available in LISC are available in the `Counts`\ntutorial. When using the functions approach, all implemented scores and transforms\nare available in `lisc.analysis`, as functions that take in our collected data.\n\n\n"
      ]
    },
    {
      "cell_type": "code",
      "execution_count": null,
      "metadata": {
        "collapsed": false
      },
      "outputs": [],
      "source": [
        "# Calculate the normalized data measure, normalizing the co-occurences by the term counts\nnormed_coocs = compute_normalization(coocs, term_counts[0], dim='A')\n\n# Check the computed score measure for the co-occurence collection\nprint(normed_coocs)"
      ]
    },
    {
      "cell_type": "code",
      "execution_count": null,
      "metadata": {
        "collapsed": false
      },
      "outputs": [],
      "source": [
        "# Compute the association index score, calculating the Jaccard index from the co-occurences\nscore = compute_association_index(coocs, term_counts[0], term_counts[1])\n\n# Check the computed score measure for the co-occurence collection\nprint(score)"
      ]
    },
    {
      "cell_type": "markdown",
      "metadata": {},
      "source": [
        "From here, further analysis of collected co-occurence data depends on the goal of the analysis.\n\nThere are also plot functions available, same as demonstrated in the Counts tutorial.\n\n\n"
      ]
    }
  ],
  "metadata": {
    "kernelspec": {
      "display_name": "Python 3",
      "language": "python",
      "name": "python3"
    },
    "language_info": {
      "codemirror_mode": {
        "name": "ipython",
        "version": 3
      },
      "file_extension": ".py",
      "mimetype": "text/x-python",
      "name": "python",
      "nbconvert_exporter": "python",
      "pygments_lexer": "ipython3",
      "version": "3.7.3"
    }
  },
  "nbformat": 4,
  "nbformat_minor": 0
}