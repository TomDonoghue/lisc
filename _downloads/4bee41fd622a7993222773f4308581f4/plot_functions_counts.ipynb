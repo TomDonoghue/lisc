{
  "cells": [
    {
      "cell_type": "code",
      "execution_count": null,
      "metadata": {
        "collapsed": false
      },
      "outputs": [],
      "source": [
        "%matplotlib inline"
      ]
    },
    {
      "cell_type": "markdown",
      "metadata": {},
      "source": [
        "\nCounts with Functions\n=====================\n\nScraping word co-occurence data, using a function oriented approach.\n\n"
      ]
    },
    {
      "cell_type": "markdown",
      "metadata": {},
      "source": [
        "Function Approach: collect_counts\n~~~~~~~~~~~~~~~~~~~~~~~~~~~~~~~~~\n\nMORE WORDS.\n\n\n"
      ]
    },
    {
      "cell_type": "code",
      "execution_count": null,
      "metadata": {
        "collapsed": false
      },
      "outputs": [],
      "source": [
        "from lisc.collect import collect_counts\nfrom lisc.analysis.counts import compute_association_index"
      ]
    },
    {
      "cell_type": "code",
      "execution_count": null,
      "metadata": {
        "collapsed": false
      },
      "outputs": [],
      "source": [
        "# Set some terms lists\nterms_a = [['protein'], ['gene']]\nterms_b = [['heart'], ['lung']]"
      ]
    },
    {
      "cell_type": "code",
      "execution_count": null,
      "metadata": {
        "collapsed": false
      },
      "outputs": [],
      "source": [
        "# Run a scrape of 'counts' (co-occurence data) - across a single list of terms\ncoocs, term_counts, meta_dat = collect_counts(terms_a, db='pubmed', verbose=True)"
      ]
    },
    {
      "cell_type": "code",
      "execution_count": null,
      "metadata": {
        "collapsed": false
      },
      "outputs": [],
      "source": [
        "# Check how many papers were found for each combination\nprint(coocs)"
      ]
    },
    {
      "cell_type": "code",
      "execution_count": null,
      "metadata": {
        "collapsed": false
      },
      "outputs": [],
      "source": [
        "# Print out how many papers found for each term\nfor term, count in zip(terms_a, term_counts):\n    print('{:12} : {}'.format(term[0], count))"
      ]
    },
    {
      "cell_type": "markdown",
      "metadata": {},
      "source": [
        "When given a single set of terms, the 'Counts' scrapes each term  against each other term.\n\nYou can also specify different sets of terms to scrape, as below, whereby\neach term in list A is scraped for co-occurence for each term in list B\n(but not to other terms in list A).\n\n\n"
      ]
    },
    {
      "cell_type": "code",
      "execution_count": null,
      "metadata": {
        "collapsed": false
      },
      "outputs": [],
      "source": [
        "# Run a scrape of 'counts' (co-occurence data) across two different lists of terms\ncoocs, term_counts, meta_dat = collect_counts(\n    terms_a=terms_a, terms_b=terms_b, db='pubmed', verbose=True)"
      ]
    },
    {
      "cell_type": "markdown",
      "metadata": {},
      "source": [
        "Calculating Scores\n~~~~~~~~~~~~~~~~~~\n\n\n\n"
      ]
    },
    {
      "cell_type": "code",
      "execution_count": null,
      "metadata": {
        "collapsed": false
      },
      "outputs": [],
      "source": [
        "# Compute the association index score\nscore = compute_association_index(coocs, term_counts[0], term_counts[1])"
      ]
    },
    {
      "cell_type": "code",
      "execution_count": null,
      "metadata": {
        "collapsed": false
      },
      "outputs": [],
      "source": [
        "# Check the computed score measure for the co-occurence collection\nprint(score)"
      ]
    }
  ],
  "metadata": {
    "kernelspec": {
      "display_name": "Python 3",
      "language": "python",
      "name": "python3"
    },
    "language_info": {
      "codemirror_mode": {
        "name": "ipython",
        "version": 3
      },
      "file_extension": ".py",
      "mimetype": "text/x-python",
      "name": "python",
      "nbconvert_exporter": "python",
      "pygments_lexer": "ipython3",
      "version": "3.7.3"
    }
  },
  "nbformat": 4,
  "nbformat_minor": 0
}