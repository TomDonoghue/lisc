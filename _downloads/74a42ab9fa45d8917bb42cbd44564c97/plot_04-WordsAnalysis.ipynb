{
  "cells": [
    {
      "cell_type": "code",
      "execution_count": null,
      "metadata": {
        "collapsed": false
      },
      "outputs": [],
      "source": [
        "%matplotlib inline"
      ]
    },
    {
      "cell_type": "markdown",
      "metadata": {},
      "source": [
        "\nTutorial 04: Words Analysis\n===========================\n\nAnalyzing collected text data and metadata.\n\n"
      ]
    },
    {
      "cell_type": "markdown",
      "metadata": {},
      "source": [
        "Words Analyses\n--------------\n\nThis tutorial covers exploring & anayzing words data.\n\nFor this tutorial, we will reload and use the `Words` data that we collected\nin the last tutorial.\n\n\n"
      ]
    },
    {
      "cell_type": "code",
      "execution_count": null,
      "metadata": {
        "collapsed": false
      },
      "outputs": [],
      "source": [
        "from lisc import SCDB, load_object\nfrom lisc.data import Data, DataAll\n\nfrom lisc.plts.words import plot_wordcloud"
      ]
    },
    {
      "cell_type": "markdown",
      "metadata": {},
      "source": [
        "Data Objects\n~~~~~~~~~~~~\n\nLISC uses a custom object to store and organize collected words data.\n\nThese objects are used internally in the `Words` objects.\n\nIf th data collection was set to save out data as it was collected, then these Data\nobjects can be loaded individually, using the label of the search term.\n\n\n"
      ]
    },
    {
      "cell_type": "code",
      "execution_count": null,
      "metadata": {
        "collapsed": false
      },
      "outputs": [],
      "source": [
        "# Set up database object\ndb = SCDB('lisc_db')\n\n# Load raw data for a particular term\nterm = 'frontal lobe'\ndata = Data(term)\ndata.load(db)"
      ]
    },
    {
      "cell_type": "markdown",
      "metadata": {},
      "source": [
        "DataAll Object\n~~~~~~~~~~~~~~\n\nThere is also the `DataAll` object, which is variant which can be used to\naggregate collected data across all articles collected for a given search term.\n\nThe DataAll also have methods to create and check summaries created from the aggregate data.\n\n\n"
      ]
    },
    {
      "cell_type": "code",
      "execution_count": null,
      "metadata": {
        "collapsed": false
      },
      "outputs": [],
      "source": [
        "# Collapse data across papers\ndata_all = DataAll(data)"
      ]
    },
    {
      "cell_type": "code",
      "execution_count": null,
      "metadata": {
        "collapsed": false
      },
      "outputs": [],
      "source": [
        "# Check an example summary\ndata_all.create_summary()\ndata_all.print_summary()"
      ]
    },
    {
      "cell_type": "markdown",
      "metadata": {},
      "source": [
        "Words Object\n~~~~~~~~~~~~\n\nThe `Words` object can also be used to reload and analyze collected data.\n\nThe `results` attribute of the `Words` object, when loaded, contains a list of\nData objects, one for each term.\n\n\n"
      ]
    },
    {
      "cell_type": "code",
      "execution_count": null,
      "metadata": {
        "collapsed": false
      },
      "outputs": [],
      "source": [
        "# Reload the words object\nwords = load_object('tutorial_words', directory=SCDB('lisc_db'))"
      ]
    },
    {
      "cell_type": "code",
      "execution_count": null,
      "metadata": {
        "collapsed": false
      },
      "outputs": [],
      "source": [
        "# Reload all data\nfor ind in range(words.n_terms):\n    words.results[ind].load(directory=db)"
      ]
    },
    {
      "cell_type": "code",
      "execution_count": null,
      "metadata": {
        "collapsed": false
      },
      "outputs": [],
      "source": [
        "# Collect into list of aggragated data objects\nall_dat = [DataAll(words[label]) for label in words.labels]"
      ]
    },
    {
      "cell_type": "code",
      "execution_count": null,
      "metadata": {
        "collapsed": false
      },
      "outputs": [],
      "source": [
        "# Plot a WordCloud of the collected data for the first term\nplot_wordcloud(all_dat[0].words, 25)"
      ]
    },
    {
      "cell_type": "markdown",
      "metadata": {},
      "source": [
        "Exploring Words Data\n--------------------\n\nThe words object also has a couple convenience methods for exploring the data.\n\n\n"
      ]
    },
    {
      "cell_type": "code",
      "execution_count": null,
      "metadata": {
        "collapsed": false
      },
      "outputs": [],
      "source": [
        "# Indexing with labels\nprint(words['frontal lobe'])"
      ]
    },
    {
      "cell_type": "code",
      "execution_count": null,
      "metadata": {
        "collapsed": false
      },
      "outputs": [],
      "source": [
        "# Iterating through papers found from a particular search term\n#  The iteration returns a dictionary with all the paper data\nfor art in words['temporal lobe']:\n    print(art['title'])"
      ]
    }
  ],
  "metadata": {
    "kernelspec": {
      "display_name": "Python 3",
      "language": "python",
      "name": "python3"
    },
    "language_info": {
      "codemirror_mode": {
        "name": "ipython",
        "version": 3
      },
      "file_extension": ".py",
      "mimetype": "text/x-python",
      "name": "python",
      "nbconvert_exporter": "python",
      "pygments_lexer": "ipython3",
      "version": "3.7.3"
    }
  },
  "nbformat": 4,
  "nbformat_minor": 0
}