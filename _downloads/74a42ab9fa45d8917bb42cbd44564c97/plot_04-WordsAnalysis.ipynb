{
  "cells": [
    {
      "cell_type": "code",
      "execution_count": null,
      "metadata": {
        "collapsed": false
      },
      "outputs": [],
      "source": [
        "%matplotlib inline"
      ]
    },
    {
      "cell_type": "markdown",
      "metadata": {},
      "source": [
        "\nTutorial 04: Words Analysis\n===========================\n\nAnalyzing collected text data and metadata.\n\n"
      ]
    },
    {
      "cell_type": "markdown",
      "metadata": {},
      "source": [
        "Words Analyses\n--------------\n\nThis tutorial covers exploring & analyzing words data.\n\nFor this tutorial, we will reload and use the `Words` data that we collected\nin the last tutorial.\n\n\n"
      ]
    },
    {
      "cell_type": "code",
      "execution_count": null,
      "metadata": {
        "collapsed": false
      },
      "outputs": [],
      "source": [
        "from lisc.data import Articles, ArticlesAll\nfrom lisc.utils.db import SCDB\nfrom lisc.utils.io import load_object\n\nfrom lisc.plts.words import plot_wordcloud"
      ]
    },
    {
      "cell_type": "markdown",
      "metadata": {},
      "source": [
        "Articles Object\n~~~~~~~~~~~~~~~\n\nLISC uses a custom objects to store and organize collected words data.\n\nThese objects are used internally in the `Words` objects.\n\nIf the data collection was set to save out data as it was collected, then 'Articles'\nobjects can be loaded individually, using the label of the search term.\n\n\n"
      ]
    },
    {
      "cell_type": "code",
      "execution_count": null,
      "metadata": {
        "collapsed": false
      },
      "outputs": [],
      "source": [
        "# Set up database object\ndb = SCDB('lisc_db')\n\n# Load raw data for a particular term\nterm = 'frontal lobe'\narts = Articles(term)\narts.load(db)"
      ]
    },
    {
      "cell_type": "markdown",
      "metadata": {},
      "source": [
        "ArticlesAll Object\n~~~~~~~~~~~~~~~~~~\n\nThere is also the `ArticlesAll` object, which is variant which can be used to\naggregate collected data across all articles collected for a given search term.\n\nThe ArticlesAll object also has methods to create and check summaries\ncreated from the aggregate data, across all articles for a given search term.\n\n\n"
      ]
    },
    {
      "cell_type": "code",
      "execution_count": null,
      "metadata": {
        "collapsed": false
      },
      "outputs": [],
      "source": [
        "# Collapse data across articles\narts_all = ArticlesAll(arts)"
      ]
    },
    {
      "cell_type": "code",
      "execution_count": null,
      "metadata": {
        "collapsed": false
      },
      "outputs": [],
      "source": [
        "# Check an example summary\narts_all.create_summary()\narts_all.print_summary()"
      ]
    },
    {
      "cell_type": "markdown",
      "metadata": {},
      "source": [
        "Words Object\n~~~~~~~~~~~~\n\nThe `Words` object can also be used to reload and analyze collected data.\n\nThe `results` attribute of the `Words` object, when loaded, contains a list of\nArticles objects, one for each term.\n\n\n"
      ]
    },
    {
      "cell_type": "code",
      "execution_count": null,
      "metadata": {
        "collapsed": false
      },
      "outputs": [],
      "source": [
        "# Reload the words object\nwords = load_object('tutorial_words', directory=SCDB('lisc_db'))"
      ]
    },
    {
      "cell_type": "code",
      "execution_count": null,
      "metadata": {
        "collapsed": false
      },
      "outputs": [],
      "source": [
        "# Reload all data\nfor ind in range(words.n_terms):\n    words.results[ind].load(directory=db)"
      ]
    },
    {
      "cell_type": "code",
      "execution_count": null,
      "metadata": {
        "collapsed": false
      },
      "outputs": [],
      "source": [
        "# Collect into list of aggragated data objects\nall_articles = [ArticlesAll(words[label]) for label in words.labels]"
      ]
    },
    {
      "cell_type": "code",
      "execution_count": null,
      "metadata": {
        "collapsed": false
      },
      "outputs": [],
      "source": [
        "# Plot a WordCloud of the collected data for the first term\nplot_wordcloud(all_articles[0].words, 25)"
      ]
    },
    {
      "cell_type": "markdown",
      "metadata": {},
      "source": [
        "Exploring Words Data\n--------------------\n\nThe Words object also has some methods for exploring the data.\n\n\n"
      ]
    },
    {
      "cell_type": "code",
      "execution_count": null,
      "metadata": {
        "collapsed": false
      },
      "outputs": [],
      "source": [
        "# Indexing with labels\nprint(words['frontal lobe'])"
      ]
    },
    {
      "cell_type": "code",
      "execution_count": null,
      "metadata": {
        "collapsed": false
      },
      "outputs": [],
      "source": [
        "# Iterating through articles found from a particular search term\n#  The iteration returns a dictionary with all the article data\nfor art in words['temporal lobe']:\n    print(art['title'])"
      ]
    },
    {
      "cell_type": "markdown",
      "metadata": {},
      "source": [
        "Analyzing Words Data\n~~~~~~~~~~~~~~~~~~~~\n\nFurther analysis is mostly determined by what one wants to do with the collected data.\n\nWords data can be used to, for example, build profiles for search terms, based\non distributions of words in related articles. This could include methods from\nnatural language processing such as vector embeddings, measuring similarities and\ndifferences between terms.\n\nOther analyses could explore historical patterns in the literature exploring, for\nexploring the history of when certain topics were written about, and in what\njournals, by which authors.\n\n"
      ]
    },
    {
      "cell_type": "code",
      "execution_count": null,
      "metadata": {
        "collapsed": false
      },
      "outputs": [],
      "source": [
        "#"
      ]
    }
  ],
  "metadata": {
    "kernelspec": {
      "display_name": "Python 3",
      "language": "python",
      "name": "python3"
    },
    "language_info": {
      "codemirror_mode": {
        "name": "ipython",
        "version": 3
      },
      "file_extension": ".py",
      "mimetype": "text/x-python",
      "name": "python",
      "nbconvert_exporter": "python",
      "pygments_lexer": "ipython3",
      "version": "3.7.3"
    }
  },
  "nbformat": 4,
  "nbformat_minor": 0
}