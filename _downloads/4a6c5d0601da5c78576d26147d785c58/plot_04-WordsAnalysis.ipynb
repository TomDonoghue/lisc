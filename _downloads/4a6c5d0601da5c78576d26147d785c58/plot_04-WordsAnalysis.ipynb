{
  "cells": [
    {
      "cell_type": "code",
      "execution_count": null,
      "metadata": {
        "collapsed": false
      },
      "outputs": [],
      "source": [
        "%matplotlib inline"
      ]
    },
    {
      "cell_type": "markdown",
      "metadata": {},
      "source": [
        "\nTutorial 04 - Words Analysis\n============================\n\n"
      ]
    },
    {
      "cell_type": "code",
      "execution_count": null,
      "metadata": {
        "collapsed": false
      },
      "outputs": [],
      "source": [
        "from lisc.core.db import SCDB\nfrom lisc.data import Data\nfrom lisc.data_all import DataAll"
      ]
    },
    {
      "cell_type": "markdown",
      "metadata": {},
      "source": [
        "Data All\n--------\n\n"
      ]
    },
    {
      "cell_type": "code",
      "execution_count": null,
      "metadata": {
        "collapsed": false
      },
      "outputs": [],
      "source": [
        "#dd = DataAll(words.results[0])\n#dd.journal_counts\n\n# Add data to path\n#db = SCDB()\n\n# Load raw data from a particular ERP\n#term = 'autobiographical recall'\n#dat = Data(term)\n#dat.load(db)\n\n# Collapse data across papers\n#all_dat = DataAll(dat)"
      ]
    },
    {
      "cell_type": "markdown",
      "metadata": {},
      "source": [
        "from lisc.plts.wc import make_wc\n\n"
      ]
    },
    {
      "cell_type": "code",
      "execution_count": null,
      "metadata": {
        "collapsed": false
      },
      "outputs": [],
      "source": [
        "#make_wc(all_dat.word_freqs, 25, term)"
      ]
    },
    {
      "cell_type": "markdown",
      "metadata": {},
      "source": [
        "Exploring Words Data\n--------------------\n\nThe words object also has a couple convenience methods for exploring the data.\n\n"
      ]
    },
    {
      "cell_type": "code",
      "execution_count": null,
      "metadata": {
        "collapsed": false
      },
      "outputs": [],
      "source": [
        "# Indexing with labels\n#print(words['brain'])"
      ]
    },
    {
      "cell_type": "markdown",
      "metadata": {},
      "source": [
        "Iterating through papers found from a particular search term\n  The iteration returns a dictionary with all the paper data\nfor art in words['cognition']:\n    print(art['title'])\n\n"
      ]
    }
  ],
  "metadata": {
    "kernelspec": {
      "display_name": "Python 3",
      "language": "python",
      "name": "python3"
    },
    "language_info": {
      "codemirror_mode": {
        "name": "ipython",
        "version": 3
      },
      "file_extension": ".py",
      "mimetype": "text/x-python",
      "name": "python",
      "nbconvert_exporter": "python",
      "pygments_lexer": "ipython3",
      "version": "3.7.1"
    }
  },
  "nbformat": 4,
  "nbformat_minor": 0
}