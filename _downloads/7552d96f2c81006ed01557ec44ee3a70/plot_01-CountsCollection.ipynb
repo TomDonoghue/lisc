{
  "cells": [
    {
      "cell_type": "code",
      "execution_count": null,
      "metadata": {
        "collapsed": false
      },
      "outputs": [],
      "source": [
        "%matplotlib inline"
      ]
    },
    {
      "cell_type": "markdown",
      "metadata": {},
      "source": [
        "\nTutorial 01: Counts Collection\n==============================\n\nScraping term co-occurence data from scientific literature.\n\n"
      ]
    },
    {
      "cell_type": "markdown",
      "metadata": {},
      "source": [
        "Term Co-Occurence\n-----------------\n\nTerm co-occurence searches the literature, and checks how often terms of interest appear together.\n\nThis type of analysis can be used to infer associations and relationships between terms.\n\n\n"
      ]
    },
    {
      "cell_type": "code",
      "execution_count": null,
      "metadata": {
        "collapsed": false
      },
      "outputs": [],
      "source": [
        "from lisc import Counts\n\nfrom lisc.core.db import SCDB\nfrom lisc.core.io import save_object"
      ]
    },
    {
      "cell_type": "markdown",
      "metadata": {},
      "source": [
        "Counts Object\n-------------\n\nThe 'Counts' object is used to handle term co-occurence analyses.\n\n\n"
      ]
    },
    {
      "cell_type": "markdown",
      "metadata": {},
      "source": [
        "Counts: Single List of Terms\n~~~~~~~~~~~~~~~~~~~~~~~~~~~~\n\nFor the first example of running a counts analysis, we will use a single list of terms.\n\nWhen a single list of terms is provided, the word co-occurence is collected as the\nco-occurence of each term with every other term in the list.\n\nLet's start with an example using different parts of the brain, and examine\nhow often these brain regions are talked about together.\n\n\n"
      ]
    },
    {
      "cell_type": "code",
      "execution_count": null,
      "metadata": {
        "collapsed": false
      },
      "outputs": [],
      "source": [
        "# Set up some terms to search for\nterms = [['frontal lobe'], ['temporal lobe'], ['parietal lobe'], ['occipital lobe']]\n\n# Initialize counts object & add the terms that we want to scrape\ncounts = Counts()\ncounts.add_terms(terms)"
      ]
    },
    {
      "cell_type": "code",
      "execution_count": null,
      "metadata": {
        "collapsed": false
      },
      "outputs": [],
      "source": [
        "# Collect data\ncounts.run_collection(verbose=True)"
      ]
    },
    {
      "cell_type": "markdown",
      "metadata": {},
      "source": [
        "We have now collected some literature data!\n\nThe Counts object will now contain count data for the word coocurence data between terms.\n\n\n"
      ]
    },
    {
      "cell_type": "code",
      "execution_count": null,
      "metadata": {
        "collapsed": false
      },
      "outputs": [],
      "source": [
        "# Check out the raw count data\nprint(counts.counts)"
      ]
    },
    {
      "cell_type": "markdown",
      "metadata": {},
      "source": [
        "The Counts object also comes with some helper methods to explore the data.\n\n\n"
      ]
    },
    {
      "cell_type": "code",
      "execution_count": null,
      "metadata": {
        "collapsed": false
      },
      "outputs": [],
      "source": [
        "# Check how many papers were found for each search term\ncounts.check_counts()"
      ]
    },
    {
      "cell_type": "code",
      "execution_count": null,
      "metadata": {
        "collapsed": false
      },
      "outputs": [],
      "source": [
        "# Check the top term\ncounts.check_top()"
      ]
    },
    {
      "cell_type": "markdown",
      "metadata": {},
      "source": [
        "Counts: Two Terms Lists\n~~~~~~~~~~~~~~~~~~~~~~~\n\nIn the first example above, we provided a single list of terms.\n\nNow let's explore using two different sets of terms.\n\nIn this example, we will keep our list of brain regions, and explore how they\nmight be related to different sensory systems.\n\n\n"
      ]
    },
    {
      "cell_type": "code",
      "execution_count": null,
      "metadata": {
        "collapsed": false
      },
      "outputs": [],
      "source": [
        "# Set some new terms\nterms_a = [['frontal lobe'], ['temporal lobe'], ['parietal lobe'], ['occipital lobe']]\nterms_b = [['vision'], ['audition', 'auditory'], ['somatosensory'], ['olfaction', 'smell'],\n           ['gustation', 'taste'], ['proprioception'], ['nociception', 'pain']]"
      ]
    },
    {
      "cell_type": "code",
      "execution_count": null,
      "metadata": {
        "collapsed": false
      },
      "outputs": [],
      "source": [
        "# Set terms lists\n#  Different terms lists are indexed by the 'A' and 'B' labels\ncounts.add_terms(terms_a, dim='A')\ncounts.add_terms(terms_b, dim='B')"
      ]
    },
    {
      "cell_type": "code",
      "execution_count": null,
      "metadata": {
        "collapsed": false
      },
      "outputs": [],
      "source": [
        "# Collect co-occurence data\ncounts.run_collection()"
      ]
    },
    {
      "cell_type": "markdown",
      "metadata": {},
      "source": [
        "From there you can use all the same methods to explore the data we just collected.\n\nIn the next tutorial, we explore analyzing our collected counts data.\n\nFor now, let's save out our collected counts data, using the LISC utility to save the object.\n\n\n"
      ]
    },
    {
      "cell_type": "code",
      "execution_count": null,
      "metadata": {
        "collapsed": false
      },
      "outputs": [],
      "source": [
        "# Save out the counts object\nsave_object(counts, 'tutorial_counts', folder=SCDB('lisc_db'))"
      ]
    }
  ],
  "metadata": {
    "kernelspec": {
      "display_name": "Python 3",
      "language": "python",
      "name": "python3"
    },
    "language_info": {
      "codemirror_mode": {
        "name": "ipython",
        "version": 3
      },
      "file_extension": ".py",
      "mimetype": "text/x-python",
      "name": "python",
      "nbconvert_exporter": "python",
      "pygments_lexer": "ipython3",
      "version": "3.7.3"
    }
  },
  "nbformat": 4,
  "nbformat_minor": 0
}