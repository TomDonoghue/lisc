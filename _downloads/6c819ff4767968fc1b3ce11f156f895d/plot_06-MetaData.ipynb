{
  "cells": [
    {
      "cell_type": "code",
      "execution_count": null,
      "metadata": {
        "collapsed": false
      },
      "outputs": [],
      "source": [
        "%matplotlib inline"
      ]
    },
    {
      "cell_type": "markdown",
      "metadata": {},
      "source": [
        "\nTutorial 06: MetaData\n=====================\n\nExploring the meta data saved during data collections.\n\n"
      ]
    },
    {
      "cell_type": "code",
      "execution_count": null,
      "metadata": {
        "collapsed": false
      },
      "outputs": [],
      "source": [
        "from lisc import SCDB, load_object"
      ]
    },
    {
      "cell_type": "markdown",
      "metadata": {},
      "source": [
        "Metadata\n--------\n\nWhenever you collect data with LISC, there is some meta data on the\nAPI requests and databases collected.\n\n\n"
      ]
    },
    {
      "cell_type": "code",
      "execution_count": null,
      "metadata": {
        "collapsed": false
      },
      "outputs": [],
      "source": [
        "# Reload the counts object\ncounts = load_object('tutorial_counts', SCDB('lisc_db'))"
      ]
    },
    {
      "cell_type": "markdown",
      "metadata": {},
      "source": [
        "Metadata Object\n---------------\n\nThis collection information is collected into a custom MetaData object,\n\nIf you are collecting data using the LISC object, such as the `Counts` or `Words`\nobject, this collection information is attached and saved to the object, as the\n`meta_data` attribute.\n\n\n"
      ]
    },
    {
      "cell_type": "code",
      "execution_count": null,
      "metadata": {
        "collapsed": false
      },
      "outputs": [],
      "source": [
        "# Check the date on which the collection happened\nprint(counts.meta_data.date)"
      ]
    },
    {
      "cell_type": "code",
      "execution_count": null,
      "metadata": {
        "collapsed": false
      },
      "outputs": [],
      "source": [
        "# Check the information about the database from which data was collected\ncounts.meta_data.db_info"
      ]
    },
    {
      "cell_type": "markdown",
      "metadata": {},
      "source": [
        "For the next part, we'll reload the `Words` object, which has the same meta data\nobject available.\n\n\n"
      ]
    },
    {
      "cell_type": "code",
      "execution_count": null,
      "metadata": {
        "collapsed": false
      },
      "outputs": [],
      "source": [
        "# Reload the words object\nwords = load_object('tutorial_words', SCDB('lisc_db'))"
      ]
    },
    {
      "cell_type": "markdown",
      "metadata": {},
      "source": [
        "Requester MetaData\n~~~~~~~~~~~~~~~~~~\n\nThe collected meta data also includes information from the Requester object,\nwhich is used to launch URL requests\n\nThe Requester object track information including when URL requests were\nlaunched and the number of requests that were made.\n\n\n"
      ]
    },
    {
      "cell_type": "code",
      "execution_count": null,
      "metadata": {
        "collapsed": false
      },
      "outputs": [],
      "source": [
        "# Check meta data from the requester object\nwords.meta_data.requester"
      ]
    },
    {
      "cell_type": "markdown",
      "metadata": {},
      "source": [
        "The End!\n~~~~~~~~\n\nThat is the end of the main tutorial for LISC!\n\nThere are some additional stand alone examples on the\n`examples <https://lisc-tools.github.io/lisc/auto_tutorials/index.html>`_\npage.\n\nIf you have any further questions, or find any problems with the code,\npleas get in touch through the Github\n`issues <https://github.com/lisc-tools/lisc/issues>`_\npage.\n\n\n"
      ]
    }
  ],
  "metadata": {
    "kernelspec": {
      "display_name": "Python 3",
      "language": "python",
      "name": "python3"
    },
    "language_info": {
      "codemirror_mode": {
        "name": "ipython",
        "version": 3
      },
      "file_extension": ".py",
      "mimetype": "text/x-python",
      "name": "python",
      "nbconvert_exporter": "python",
      "pygments_lexer": "ipython3",
      "version": "3.7.3"
    }
  },
  "nbformat": 4,
  "nbformat_minor": 0
}