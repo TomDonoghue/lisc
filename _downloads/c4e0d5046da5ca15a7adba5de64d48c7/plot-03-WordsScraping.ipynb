{
  "cells": [
    {
      "cell_type": "code",
      "execution_count": null,
      "metadata": {
        "collapsed": false
      },
      "outputs": [],
      "source": [
        "%matplotlib inline"
      ]
    },
    {
      "cell_type": "markdown",
      "metadata": {},
      "source": [
        "\nTutorial 03 - Words Scraping\n============================\n\n"
      ]
    },
    {
      "cell_type": "markdown",
      "metadata": {},
      "source": [
        "Words\n\n'Words' scrapes abstract text data, and paper meta-data, for all papers found for a given set of terms.\n\n\n"
      ]
    },
    {
      "cell_type": "markdown",
      "metadata": {},
      "source": [
        "Words\n-----\n\nAnother way to scrape the data is to get some paper data from\n\n"
      ]
    },
    {
      "cell_type": "markdown",
      "metadata": {},
      "source": [
        "Import LISC - Words\n\n"
      ]
    },
    {
      "cell_type": "code",
      "execution_count": null,
      "metadata": {
        "collapsed": false
      },
      "outputs": [],
      "source": [
        "from lisc.words import Words\nfrom lisc.scrape import scrape_words"
      ]
    },
    {
      "cell_type": "code",
      "execution_count": null,
      "metadata": {
        "collapsed": false
      },
      "outputs": [],
      "source": [
        "# Set up some test data\n#  Note that each entry should be a list\nterms_a = [['brain'], ['cognition']]\nterms_b = [['body'], ['biology'], ['disease']]"
      ]
    },
    {
      "cell_type": "markdown",
      "metadata": {},
      "source": [
        "Function Approach: scrape_words\n~~~~~~~~~~~~~~~~~~~~~~~~~~~~~~~\n\nScrape words data - set the scrape to return data for at most 5 papers per term\n\n"
      ]
    },
    {
      "cell_type": "code",
      "execution_count": null,
      "metadata": {
        "collapsed": false
      },
      "outputs": [],
      "source": [
        "dat, meta_dat = scrape_words(terms_a, retmax='5', use_hist=False, save_n_clear=False, verbose=True)"
      ]
    },
    {
      "cell_type": "code",
      "execution_count": null,
      "metadata": {
        "collapsed": false
      },
      "outputs": [],
      "source": [
        "# The function returns a list of LISC Data objects\ndat"
      ]
    },
    {
      "cell_type": "code",
      "execution_count": null,
      "metadata": {
        "collapsed": false
      },
      "outputs": [],
      "source": [
        "# Each data object holds the data for the scraped papers\nd1 = dat[0]"
      ]
    },
    {
      "cell_type": "code",
      "execution_count": null,
      "metadata": {
        "collapsed": false
      },
      "outputs": [],
      "source": [
        "# Print out some of the data\nprint(d1.n_articles, '\\n')\nprint('\\n'.join(d1.titles), '\\n')"
      ]
    },
    {
      "cell_type": "markdown",
      "metadata": {},
      "source": [
        "Object Approach: Words\n----------------------\n\n"
      ]
    },
    {
      "cell_type": "code",
      "execution_count": null,
      "metadata": {
        "collapsed": false
      },
      "outputs": [],
      "source": [
        "# Initialize Words object\nwords = Words()\n\n# Set terms to search\nwords.set_terms(terms_a)\n\n# Run words scrape\nwords.run_scrape(retmax='5', save_n_clear=False)"
      ]
    },
    {
      "cell_type": "markdown",
      "metadata": {},
      "source": [
        "Words also saves the same list of Data objects\n\n"
      ]
    },
    {
      "cell_type": "code",
      "execution_count": null,
      "metadata": {
        "collapsed": false
      },
      "outputs": [],
      "source": [
        "words.results\n\n# The use of synonyms and exclusion words, demonstrated above for counts, applies in the same way to the scraping words."
      ]
    },
    {
      "cell_type": "markdown",
      "metadata": {},
      "source": [
        "Metadata\n--------\n\nRegardless of what you are scraping, or how you run it through LISC, there is some meta-data saved.\n\nThis data is collected in a dictionary, that is returned by the scrape functions (and saved to the objects, if applicable).\n\n"
      ]
    },
    {
      "cell_type": "markdown",
      "metadata": {},
      "source": [
        "The meta data includes some information on the database that was scraped\n\n"
      ]
    },
    {
      "cell_type": "code",
      "execution_count": null,
      "metadata": {
        "collapsed": false
      },
      "outputs": [],
      "source": [
        "meta_dat['db_info']\n#\n# This data is also saved to object\nwords.meta_dat['db_info']"
      ]
    },
    {
      "cell_type": "markdown",
      "metadata": {},
      "source": [
        "It also includes the Requester object, which is used to launch URL requests\n  This object also stores some details about the scrape\n  It can be used, for example, to track how long scrapes take, and how many requests they include\n\n"
      ]
    },
    {
      "cell_type": "code",
      "execution_count": null,
      "metadata": {
        "collapsed": false
      },
      "outputs": [],
      "source": [
        "print('Start time:    ', meta_dat['req'].st_time)\nprint('End time:      ', meta_dat['req'].en_time)\nprint('# of requests: ', meta_dat['req'].n_requests)"
      ]
    }
  ],
  "metadata": {
    "kernelspec": {
      "display_name": "Python 3",
      "language": "python",
      "name": "python3"
    },
    "language_info": {
      "codemirror_mode": {
        "name": "ipython",
        "version": 3
      },
      "file_extension": ".py",
      "mimetype": "text/x-python",
      "name": "python",
      "nbconvert_exporter": "python",
      "pygments_lexer": "ipython3",
      "version": "3.7.1"
    }
  },
  "nbformat": 4,
  "nbformat_minor": 0
}